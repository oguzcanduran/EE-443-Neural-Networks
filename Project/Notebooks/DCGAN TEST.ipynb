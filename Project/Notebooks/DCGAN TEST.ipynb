{
 "cells": [
  {
   "cell_type": "code",
   "execution_count": null,
   "metadata": {
    "execution": {
     "iopub.execute_input": "2023-06-11T16:07:16.545572Z",
     "iopub.status.busy": "2023-06-11T16:07:16.544825Z",
     "iopub.status.idle": "2023-06-11T16:07:42.810585Z",
     "shell.execute_reply": "2023-06-11T16:07:42.809615Z",
     "shell.execute_reply.started": "2023-06-11T16:07:16.545535Z"
    },
    "id": "nogQq5e4vUnk"
   },
   "outputs": [],
   "source": [
    "import h5py\n",
    "import pandas as pd\n",
    "import numpy as np\n",
    "import os\n",
    "from tqdm import tqdm\n",
    "import requests\n",
    "from PIL import Image\n",
    "import time\n",
    "import torch\n",
    "import h5py\n",
    "import glob\n",
    "import cv2\n",
    "import matplotlib.pyplot as plt\n",
    "from torch.utils.data import Dataset, DataLoader\n",
    "from torchvision import transforms\n",
    "from transformers import BertTokenizer, TFBertModel\n",
    "import torchtext.vocab as vocab\n",
    "import argparse\n",
    "import random\n",
    "import torch.nn as nn\n",
    "import torch.nn.parallel\n",
    "import torch.backends.cudnn as cudnn\n",
    "import torch.optim as optim\n",
    "import torch.utils.data\n",
    "import torchvision.datasets as dset\n",
    "import torchvision.transforms as transforms\n",
    "import torchvision.utils as vutils\n",
    "import matplotlib.pyplot as plt\n",
    "import matplotlib.animation as animation\n",
    "from IPython.display import HTML\n",
    "from torch.utils.data import Dataset\n",
    "from torchvision import transforms\n",
    "from transformers import BertTokenizer, TFBertModel\n",
    "from tqdm.notebook import tqdm\n",
    "from PIL import ImageFile\n",
    "ImageFile.LOAD_TRUNCATED_IMAGES = True\n",
    "from PIL import ImageFile\n",
    "from torchvision.utils import save_image,make_grid\n",
    "ImageFile.LOAD_TRUNCATED_IMAGES = True"
   ]
  },
  {
   "cell_type": "code",
   "execution_count": null,
   "metadata": {
    "execution": {
     "iopub.execute_input": "2023-06-11T16:08:01.053400Z",
     "iopub.status.busy": "2023-06-11T16:08:01.052417Z",
     "iopub.status.idle": "2023-06-11T16:08:04.359940Z",
     "shell.execute_reply": "2023-06-11T16:08:04.358824Z",
     "shell.execute_reply.started": "2023-06-11T16:08:01.053355Z"
    },
    "id": "d8SZujbTvF-c"
   },
   "outputs": [],
   "source": [
    "train_dataset = h5py.File('/kaggle/input/443-datasets/eee443_project_dataset_train.h5','r')\n",
    "\n",
    "train_cap = train_dataset[\"train_cap\"][()]\n",
    "train_imid = train_dataset[\"train_imid\"][()]\n",
    "train_url = train_dataset[\"train_url\"][()]\n",
    "train_ims = train_dataset[\"train_ims\"][()]\n",
    "word_code = train_dataset[\"word_code\"][()]\n",
    "\n",
    "\n",
    "test_dataset = h5py.File('/kaggle/input/443-datasets/eee443_project_dataset_test.h5','r')\n",
    "test_cap = test_dataset[\"test_caps\"][()]\n",
    "test_imid = test_dataset[\"test_imid\"][()]\n",
    "test_url=test_dataset[\"test_url\"][()]"
   ]
  },
  {
   "cell_type": "code",
   "execution_count": null,
   "metadata": {
    "execution": {
     "iopub.execute_input": "2023-06-11T16:08:07.146959Z",
     "iopub.status.busy": "2023-06-11T16:08:07.146579Z",
     "iopub.status.idle": "2023-06-11T16:08:07.177884Z",
     "shell.execute_reply": "2023-06-11T16:08:07.176823Z",
     "shell.execute_reply.started": "2023-06-11T16:08:07.146929Z"
    }
   },
   "outputs": [],
   "source": [
    "words = pd.DataFrame(word_code)\n",
    "words = words.sort_values(0, axis=1)\n",
    "array_of_words = np.asarray(words.columns)\n",
    "\n",
    "word_dict = {}\n",
    "index_dict = {}\n",
    "for i in range(len(array_of_words)):\n",
    " w = array_of_words[i]\n",
    " word_dict[w] = i\n",
    " index_dict[i] = w"
   ]
  },
  {
   "cell_type": "code",
   "execution_count": null,
   "metadata": {
    "execution": {
     "iopub.execute_input": "2023-06-11T16:08:16.716399Z",
     "iopub.status.busy": "2023-06-11T16:08:16.716004Z",
     "iopub.status.idle": "2023-06-11T16:08:16.722159Z",
     "shell.execute_reply": "2023-06-11T16:08:16.720504Z",
     "shell.execute_reply.started": "2023-06-11T16:08:16.716355Z"
    },
    "id": "EBDJc0CevwTc"
   },
   "outputs": [],
   "source": [
    "train_img_dir=\"/kaggle/input/443-train-images/443images\"\n",
    "test_img_dir=\"/kaggle/input/443-test-images/443test_images\""
   ]
  },
  {
   "cell_type": "code",
   "execution_count": null,
   "metadata": {
    "execution": {
     "iopub.execute_input": "2023-06-11T16:08:22.538400Z",
     "iopub.status.busy": "2023-06-11T16:08:22.537322Z",
     "iopub.status.idle": "2023-06-11T16:08:23.034762Z",
     "shell.execute_reply": "2023-06-11T16:08:23.033719Z",
     "shell.execute_reply.started": "2023-06-11T16:08:22.538364Z"
    }
   },
   "outputs": [],
   "source": [
    "train_imid2=np.load(\"/kaggle/input/cleaned-data/trainimid.npy\") \n",
    "train_cap2=np.load(\"/kaggle/input/cleaned-data/traicap.npy\")\n",
    "test_imid2=np.load(\"/kaggle/input/cleaned-data/testimid.npy\")\n",
    "test_cap2=np.load(\"/kaggle/input/cleaned-data/testcap.npy\")"
   ]
  },
  {
   "cell_type": "code",
   "execution_count": null,
   "metadata": {
    "execution": {
     "iopub.execute_input": "2023-06-11T16:17:57.676073Z",
     "iopub.status.busy": "2023-06-11T16:17:57.675667Z",
     "iopub.status.idle": "2023-06-11T16:17:57.688081Z",
     "shell.execute_reply": "2023-06-11T16:17:57.687151Z",
     "shell.execute_reply.started": "2023-06-11T16:17:57.676044Z"
    },
    "id": "LBgDVMBHwoE3"
   },
   "outputs": [],
   "source": [
    "\n",
    "class Create_Dataset(Dataset):\n",
    "\n",
    "  def __init__(self, imid, cap, dir_path, **kwargs):\n",
    "\n",
    "   self.dir_path = dir_path\n",
    "   self.sample_n = len(imid)\n",
    "\n",
    "   self.imid = imid\n",
    "   self.cap = cap\n",
    "\n",
    "  def __len__(self):\n",
    "\n",
    "    return self.sample_n\n",
    "\n",
    "  def __getitem__(self, ind):\n",
    "\n",
    "     imgpath = self.dir_path + \"/\" + str(self.imid[ind]) + \".png\"\n",
    "     self.image = Image.open(imgpath).convert(\"RGB\")\n",
    "\n",
    "     data_tensor = self.ImageToTensor(self.image)\n",
    "\n",
    "     return (data_tensor, self.cap[ind])\n",
    "\n",
    "  def ImageToTensor(self, img):\n",
    "\n",
    "    transform_with_resize = transforms.Compose([\n",
    "         transforms.Resize(64),\n",
    "         transforms.CenterCrop(64),\n",
    "         transforms.ToTensor(),\n",
    "         transforms.Normalize((0.485,0.456,0.406), (0.229,0.224,0.225))\n",
    "    ])\n",
    "    get_image = transforms.Compose([transforms.ToPILImage()])\n",
    "    img_rsz = transform_with_resize(img)\n",
    "    tns_to_img = get_image(img_rsz)\n",
    "\n",
    "    if img_rsz.shape[0]>3:\n",
    "     img_rsz = img_rsz[:3]\n",
    "    return img_rsz\n",
    "\n",
    "  def get_splits(self):\n",
    "\n",
    "   n_tra = int(0.85 * self.sample_n)\n",
    "   n_val = self.sample_n-n_tra\n",
    "    \n",
    "   self.get_train, self.get_val = torch.utils.data.random_split(self, [n_tra, n_val])\n"
   ]
  },
  {
   "cell_type": "code",
   "execution_count": null,
   "metadata": {
    "execution": {
     "iopub.execute_input": "2023-06-11T16:17:57.870405Z",
     "iopub.status.busy": "2023-06-11T16:17:57.869767Z",
     "iopub.status.idle": "2023-06-11T16:17:57.875030Z",
     "shell.execute_reply": "2023-06-11T16:17:57.873796Z",
     "shell.execute_reply.started": "2023-06-11T16:17:57.870376Z"
    },
    "id": "6O-ECrrbw11X"
   },
   "outputs": [],
   "source": [
    "train_set = Create_Dataset(train_imid2, train_cap2, train_img_dir)\n",
    "test_set = Create_Dataset(test_imid2, test_cap2, test_img_dir)\n",
    "torch.cuda.empty_cache()"
   ]
  },
  {
   "cell_type": "code",
   "execution_count": null,
   "metadata": {
    "execution": {
     "iopub.execute_input": "2023-06-11T16:17:58.010280Z",
     "iopub.status.busy": "2023-06-11T16:17:58.009614Z",
     "iopub.status.idle": "2023-06-11T16:17:58.046300Z",
     "shell.execute_reply": "2023-06-11T16:17:58.045228Z",
     "shell.execute_reply.started": "2023-06-11T16:17:58.010241Z"
    },
    "id": "SUFSmisL7oLq"
   },
   "outputs": [],
   "source": [
    "train_set.get_splits()\n",
    "validation_data = train_set.get_val\n",
    "train_data = train_set.get_train\n",
    "print(len(train_data))\n",
    "print(len(validation_data))"
   ]
  },
  {
   "cell_type": "code",
   "execution_count": null,
   "metadata": {
    "execution": {
     "iopub.execute_input": "2023-06-11T16:17:58.525396Z",
     "iopub.status.busy": "2023-06-11T16:17:58.524650Z",
     "iopub.status.idle": "2023-06-11T16:17:58.534875Z",
     "shell.execute_reply": "2023-06-11T16:17:58.533740Z",
     "shell.execute_reply.started": "2023-06-11T16:17:58.525359Z"
    }
   },
   "outputs": [],
   "source": [
    "torch.cuda.empty_cache()\n",
    "train_dataloader = torch.utils.data.DataLoader(\n",
    "\n",
    "  dataset=train_data,\n",
    "\n",
    "  batch_size=64,\n",
    "\n",
    "  shuffle=True,\n",
    "\n",
    "  num_workers=0,\n",
    "\n",
    "  drop_last = True\n",
    "\n",
    ")"
   ]
  },
  {
   "cell_type": "code",
   "execution_count": null,
   "metadata": {
    "execution": {
     "iopub.execute_input": "2023-06-11T16:17:58.958485Z",
     "iopub.status.busy": "2023-06-11T16:17:58.958113Z",
     "iopub.status.idle": "2023-06-11T16:17:58.965119Z",
     "shell.execute_reply": "2023-06-11T16:17:58.963907Z",
     "shell.execute_reply.started": "2023-06-11T16:17:58.958454Z"
    }
   },
   "outputs": [],
   "source": [
    "torch.cuda.empty_cache()\n",
    "val_dataloader = torch.utils.data.DataLoader(\n",
    "\n",
    "    dataset=validation_data,\n",
    "\n",
    "    batch_size=64,\n",
    "\n",
    "    shuffle=False,\n",
    "\n",
    "    num_workers=0,\n",
    "\n",
    "    drop_last = True\n",
    "\n",
    ")"
   ]
  },
  {
   "cell_type": "code",
   "execution_count": null,
   "metadata": {
    "execution": {
     "iopub.execute_input": "2023-06-11T16:45:10.285529Z",
     "iopub.status.busy": "2023-06-11T16:45:10.285086Z",
     "iopub.status.idle": "2023-06-11T16:45:10.299581Z",
     "shell.execute_reply": "2023-06-11T16:45:10.298543Z",
     "shell.execute_reply.started": "2023-06-11T16:45:10.285480Z"
    }
   },
   "outputs": [],
   "source": [
    "torch.cuda.empty_cache()\n",
    "\n",
    "test_dataloader = torch.utils.data.DataLoader(\n",
    "\n",
    "    dataset=test_set,\n",
    "\n",
    "    batch_size=64,\n",
    "\n",
    "    shuffle=False,\n",
    "\n",
    "    num_workers=0,\n",
    "\n",
    "    drop_last = True\n",
    "\n",
    ")\n",
    "print(len(test_dataloader))"
   ]
  },
  {
   "cell_type": "code",
   "execution_count": null,
   "metadata": {
    "execution": {
     "iopub.execute_input": "2023-06-11T16:46:10.708251Z",
     "iopub.status.busy": "2023-06-11T16:46:10.707887Z",
     "iopub.status.idle": "2023-06-11T16:46:11.405555Z",
     "shell.execute_reply": "2023-06-11T16:46:11.404596Z",
     "shell.execute_reply.started": "2023-06-11T16:46:10.708221Z"
    }
   },
   "outputs": [],
   "source": [
    "name_bert=\"prajjwal1/bert-small\"\n",
    "\n",
    "tokenizer=BertTokenizer.from_pretrained(name_bert)\n",
    "\n",
    "model = TFBertModel.from_pretrained(name_bert,from_pt=True)\n",
    "\n",
    "def enc_sntcs(sntc):\n",
    "\n",
    " cap_list = []\n",
    "\n",
    " for i in sntc:\n",
    "\n",
    "     cap_list.append(array_of_words[i])\n",
    "\n",
    " s = \" \".join(cap_list)\n",
    "\n",
    "\n",
    "\n",
    " encd = tokenizer.batch_enc_plus(\n",
    "\n",
    "                [s],\n",
    "\n",
    "                max_length=512,\n",
    "\n",
    "                pad_to_max_length=False,\n",
    "\n",
    "                return_tensors=\"pt\",\n",
    "\n",
    "                truncation=True,\n",
    "\n",
    "            )\n",
    "\n",
    "\n",
    "\n",
    " input_ids = np.array(encd[\"input_ids\"], dtype=\"int32\")\n",
    "\n",
    " out = model(input_ids)\n",
    "\n",
    " seq, pool = out[:2]\n",
    "\n",
    " return pool[0]"
   ]
  },
  {
   "cell_type": "code",
   "execution_count": null,
   "metadata": {
    "execution": {
     "iopub.execute_input": "2023-06-11T16:46:13.192815Z",
     "iopub.status.busy": "2023-06-11T16:46:13.192422Z",
     "iopub.status.idle": "2023-06-11T16:46:13.199281Z",
     "shell.execute_reply": "2023-06-11T16:46:13.197836Z",
     "shell.execute_reply.started": "2023-06-11T16:46:13.192784Z"
    }
   },
   "outputs": [],
   "source": [
    "def enc_sntcs_batch(sntcs):\n",
    " enc_sntcs = []\n",
    " for sntc in sntcs:\n",
    "  enc_sntcs.append(enc_sntcs(sntc))\n",
    " return torch.tensor(np.array(enc_sntcs))"
   ]
  },
  {
   "cell_type": "code",
   "execution_count": null,
   "metadata": {
    "execution": {
     "iopub.execute_input": "2023-06-11T16:46:14.581644Z",
     "iopub.status.busy": "2023-06-11T16:46:14.580913Z",
     "iopub.status.idle": "2023-06-11T16:46:14.587578Z",
     "shell.execute_reply": "2023-06-11T16:46:14.586651Z",
     "shell.execute_reply.started": "2023-06-11T16:46:14.581609Z"
    }
   },
   "outputs": [],
   "source": [
    "def dec_sntcs(sntcs):\n",
    " dec_sntcs = []\n",
    " for sntc in sntcs:\n",
    "     dec_sntcs.append(enc_sntcs(sntc))\n",
    "     list_capt = []\n",
    "     for i in sntc:\n",
    "      list_capt.append(array_of_words[i])\n",
    "     s = \" \".join(list_capt)\n",
    "     dec_sntcs.append(s)\n",
    " return dec_sntcs"
   ]
  },
  {
   "cell_type": "code",
   "execution_count": null,
   "metadata": {
    "execution": {
     "iopub.execute_input": "2023-06-11T16:46:15.853174Z",
     "iopub.status.busy": "2023-06-11T16:46:15.852018Z",
     "iopub.status.idle": "2023-06-11T16:46:15.861886Z",
     "shell.execute_reply": "2023-06-11T16:46:15.860890Z",
     "shell.execute_reply.started": "2023-06-11T16:46:15.853131Z"
    }
   },
   "outputs": [],
   "source": [
    "rand_index=443 ## for reproduction\n",
    "random.seed(rand_index)\n",
    "torch.manual_seed(rand_index)"
   ]
  },
  {
   "cell_type": "code",
   "execution_count": null,
   "metadata": {
    "execution": {
     "iopub.execute_input": "2023-06-11T16:48:27.550761Z",
     "iopub.status.busy": "2023-06-11T16:48:27.549841Z",
     "iopub.status.idle": "2023-06-11T16:48:27.558030Z",
     "shell.execute_reply": "2023-06-11T16:48:27.556750Z",
     "shell.execute_reply.started": "2023-06-11T16:48:27.550727Z"
    }
   },
   "outputs": [],
   "source": [
    "### https://pytorch.org/tutorials/beginner/dcgan_faces_tutorial.html\n",
    "\n",
    "workers = 1\n",
    "batch_size = 64\n",
    "image_size = 64\n",
    "nc = 3\n",
    "nz = 128\n",
    "ngf = 64\n",
    "ndf = 64\n",
    "num_epochs = 1\n",
    "lr = 2e-4\n",
    "beta1 = 0.5\n",
    "ngpu = 2"
   ]
  },
  {
   "cell_type": "code",
   "execution_count": null,
   "metadata": {
    "execution": {
     "iopub.execute_input": "2023-06-11T16:46:24.392062Z",
     "iopub.status.busy": "2023-06-11T16:46:24.390991Z",
     "iopub.status.idle": "2023-06-11T16:46:24.400536Z",
     "shell.execute_reply": "2023-06-11T16:46:24.399528Z",
     "shell.execute_reply.started": "2023-06-11T16:46:24.392016Z"
    }
   },
   "outputs": [],
   "source": [
    "### https://pytorch.org/tutorials/beginner/dcgan_faces_tutorial.html\n",
    "\n",
    "def weights_init(m):\n",
    "\n",
    "  classname = m.__class__.__name__\n",
    "\n",
    "  if classname.find('Conv') != -1:\n",
    "    nn.init.xavier_uniform_(m.weight.data)\n",
    "\n",
    "  elif classname.find(\"Linear\") != -1:\n",
    "    nn.init.xavier_uniform_(m.weight.data)\n",
    "    nn.init.constant_(m.bias.data, 0)\n",
    "\n",
    "  elif classname.find('BatchNorm') != -1:\n",
    "    nn.init.normal_(m.weight.data, 1.0, 0.02)\n",
    "    nn.init.constant_(m.bias.data, 0)\n",
    "\n",
    "\n"
   ]
  },
  {
   "cell_type": "code",
   "execution_count": null,
   "metadata": {
    "execution": {
     "iopub.execute_input": "2023-06-11T16:46:25.414339Z",
     "iopub.status.busy": "2023-06-11T16:46:25.413660Z",
     "iopub.status.idle": "2023-06-11T16:46:25.427479Z",
     "shell.execute_reply": "2023-06-11T16:46:25.426275Z",
     "shell.execute_reply.started": "2023-06-11T16:46:25.414305Z"
    }
   },
   "outputs": [],
   "source": [
    "### https://pytorch.org/tutorials/beginner/dcgan_faces_tutorial.html\n",
    "\n",
    "class Generator(nn.Module):\n",
    "  def __init__(self,ngpu):\n",
    "    super(Generator,self).__init__()\n",
    "    self.ngpu = ngpu\n",
    "    self.proj_dim_emb = 128\n",
    "    self.noise_dim = nz\n",
    "    self.latent_dim = self.noise_dim + self.proj_dim_emb\n",
    "    self.epsilon = torch.randn(batch_size,128,1,1,device=device)\n",
    "    self.project = nn.Sequential (\n",
    "                  nn.Linear(512,self.proj_dim_emb),\n",
    "                  nn.BatchNorm1d(num_features=self.proj_dim_emb),\n",
    "                  nn.LeakyReLU(negative_slope=0.2,inplace = True))\n",
    "    self.main = nn.Sequential(\n",
    "      nn.ConvTranspose2d(self.latent_dim, ngf * 8, 4, 1, 0, bias=False),\n",
    "      nn.BatchNorm2d(ngf * 8),\n",
    "      nn.ReLU(True),\n",
    "      nn.ConvTranspose2d(ngf * 8, ngf * 4, 4, 2, 1, bias=False),\n",
    "      nn.BatchNorm2d(ngf * 4),\n",
    "      nn.ReLU(True),\n",
    "      nn.ConvTranspose2d( ngf * 4, ngf * 2, 4, 2, 1, bias=False),\n",
    "      nn.BatchNorm2d(ngf * 2),\n",
    "      nn.ReLU(True),\n",
    "      nn.ConvTranspose2d( ngf * 2, ngf, 4, 2, 1, bias=False),\n",
    "      nn.BatchNorm2d(ngf),\n",
    "      nn.ReLU(True),\n",
    "      nn.ConvTranspose2d( ngf, nc, 4, 2, 1, bias=False),\n",
    "      nn.Tanh()\n",
    "      )\n",
    "\n",
    "  def forward(self, inp,n):\n",
    "\n",
    "    emb = self.project(inp).unsqueeze(2).unsqueeze(3)\n",
    "    lat = torch.concat([emb,n],1)\n",
    "    \n",
    "    return self.main(lat)"
   ]
  },
  {
   "cell_type": "code",
   "execution_count": null,
   "metadata": {
    "execution": {
     "iopub.execute_input": "2023-06-11T16:46:26.374397Z",
     "iopub.status.busy": "2023-06-11T16:46:26.373431Z",
     "iopub.status.idle": "2023-06-11T16:46:26.421691Z",
     "shell.execute_reply": "2023-06-11T16:46:26.420690Z",
     "shell.execute_reply.started": "2023-06-11T16:46:26.374364Z"
    }
   },
   "outputs": [],
   "source": [
    "netG = Generator(ngpu).to(device)\n",
    "if (device.type == 'cuda') and (ngpu > 1):\n",
    "  netG = nn.DataParallel(netG, list(range(ngpu)))\n",
    "  \n",
    "netG.load_state_dict(torch.load(\"/kaggle/input/dcganep1/netG_0_bs_64.pth\")) "
   ]
  },
  {
   "cell_type": "code",
   "execution_count": null,
   "metadata": {
    "execution": {
     "iopub.execute_input": "2023-06-11T16:46:31.648168Z",
     "iopub.status.busy": "2023-06-11T16:46:31.645883Z",
     "iopub.status.idle": "2023-06-11T16:46:31.660914Z",
     "shell.execute_reply": "2023-06-11T16:46:31.660023Z",
     "shell.execute_reply.started": "2023-06-11T16:46:31.648125Z"
    }
   },
   "outputs": [],
   "source": [
    "\n",
    "class Discriminator(nn.Module):\n",
    "  def __init__(self, ngpu):\n",
    "    super(Discriminator, self).__init__()\n",
    "    self.ngpu = ngpu\n",
    "    self.dim_emb = 512\n",
    "    self.proj_dim_emb = 128\n",
    "    self.main = nn.Sequential(\n",
    "      nn.Conv2d(nc, ndf, 4, 2, 1, bias=False),\n",
    "      nn.LeakyReLU(0.2, inplace=True),\n",
    "      nn.Conv2d(ndf, ndf * 2, 4, 2, 1, bias=False),\n",
    "      nn.BatchNorm2d(ndf * 2),\n",
    "      nn.LeakyReLU(0.2, inplace=True),\n",
    "      nn.Conv2d(ndf * 2, ndf * 4, 4, 2, 1, bias=False),\n",
    "      nn.BatchNorm2d(ndf * 4),\n",
    "      nn.LeakyReLU(0.2, inplace=True),\n",
    "      nn.Conv2d(ndf * 4, ndf * 8, 4, 2, 1, bias=False),\n",
    "      nn.BatchNorm2d(ndf * 8),\n",
    "      nn.LeakyReLU(0.2, inplace=True)   )\n",
    "\n",
    "    self.proj = nn.Sequential(\n",
    "        nn.Linear(self.dim_emb,self.proj_dim_emb),\n",
    "        nn.BatchNorm1d(self.proj_dim_emb),\n",
    "        nn.LeakyReLU(negative_slope=0.2, inplace=True)   )\n",
    "\n",
    "    self.aug = nn.Sequential(\n",
    "        nn.Conv2d(8*ndf  + self.proj_dim_emb, 1, 4, 1, 0, bias=False),\n",
    "        nn.Sigmoid()  )\n",
    "\n",
    "\n",
    "\n",
    "  def forward(self, inpimg,capt):\n",
    "    intimg= self.main(inpimg)\n",
    "    emb_proj = self.proj(capt)\n",
    "    emb_rep = emb_proj.repeat(4,4,1,1).permute(2,3,0,1)\n",
    "    conc_hid = torch.concat([intimg,emb_rep],1)\n",
    "    out = self.aug(conc_hid)\n",
    "    return out.view(-1,1).squeeze(1)"
   ]
  },
  {
   "cell_type": "code",
   "execution_count": null,
   "metadata": {
    "execution": {
     "iopub.execute_input": "2023-06-11T16:46:32.709039Z",
     "iopub.status.busy": "2023-06-11T16:46:32.708146Z",
     "iopub.status.idle": "2023-06-11T16:46:32.740675Z",
     "shell.execute_reply": "2023-06-11T16:46:32.739772Z",
     "shell.execute_reply.started": "2023-06-11T16:46:32.708992Z"
    }
   },
   "outputs": [],
   "source": [
    "netD = Discriminator(ngpu).to(device)\n",
    "if (device.type == 'cuda') and (ngpu > 1):\n",
    " netD = nn.DataParallel(netD, list(range(ngpu)))\n",
    "netD.load_state_dict(torch.load(\"/kaggle/input/dcganep1/netD_0_bs_64.pth\")) "
   ]
  },
  {
   "cell_type": "code",
   "execution_count": null,
   "metadata": {
    "execution": {
     "iopub.execute_input": "2023-06-11T16:46:35.665898Z",
     "iopub.status.busy": "2023-06-11T16:46:35.665517Z",
     "iopub.status.idle": "2023-06-11T16:46:35.671626Z",
     "shell.execute_reply": "2023-06-11T16:46:35.670255Z",
     "shell.execute_reply.started": "2023-06-11T16:46:35.665862Z"
    }
   },
   "outputs": [],
   "source": [
    "criterion = nn.BCELoss()\n",
    "fixed_noise = torch.randn(batch_size, nz, 1, 1, device=device)\n",
    "real_label = 1.\n",
    "fake_label = 0.\n",
    "optimizerD = optim.Adam(netD.parameters(), lr=lr, betas=(beta1, 0.999))\n",
    "optimizerG = optim.Adam(netG.parameters(), lr=lr, betas=(beta1, 0.999))"
   ]
  },
  {
   "cell_type": "code",
   "execution_count": null,
   "metadata": {
    "execution": {
     "iopub.execute_input": "2023-06-11T16:46:45.184658Z",
     "iopub.status.busy": "2023-06-11T16:46:45.184295Z",
     "iopub.status.idle": "2023-06-11T16:46:45.545349Z",
     "shell.execute_reply": "2023-06-11T16:46:45.543881Z",
     "shell.execute_reply.started": "2023-06-11T16:46:45.184629Z"
    }
   },
   "outputs": [],
   "source": [
    "### https://pytorch.org/tutorials/beginner/dcgan_faces_tutorial.html\n",
    "\n",
    "img_list = []\n",
    "G_losses = []\n",
    "D_losses = []\n",
    "G_losses_val = []\n",
    "D_losses_val = []\n",
    "iters = 0\n",
    "\n",
    "\n",
    "i=0\n",
    "\n",
    "for imgs, txt_emb in tqdm(test_dataloader):\n",
    "    img = imgs.to(device)\n",
    "    capts = enc_sntcs_batch(txt_emb).to(device)\n",
    "    b_size = img.size(0)\n",
    "\n",
    "    dec_cap = dec_sntcs(txt_emb)\n",
    "    with torch.no_grad():\n",
    "      generated = netG(capts,fixed_noise).detach().cpu()\n",
    "    save_image(generated, '/kaggle/dataset/my-directory/generated_samples_%d.png' % (i), normalize=True)\n",
    "    img_list.append(vutils.make_grid(generated, padding=2, normalize=True))\n",
    "    np.save('/kaggle/dataset/my-directory/test_captss_{}.npy'.format(i),np.array(dec_cap))\n",
    "    i += 1\n",
    "    if i == 40:\n",
    "     break"
   ]
  },
  {
   "cell_type": "code",
   "execution_count": null,
   "metadata": {
    "execution": {
     "iopub.execute_input": "2023-06-11T16:29:36.717654Z",
     "iopub.status.busy": "2023-06-11T16:29:36.717266Z",
     "iopub.status.idle": "2023-06-11T16:29:45.150734Z",
     "shell.execute_reply": "2023-06-11T16:29:45.149814Z",
     "shell.execute_reply.started": "2023-06-11T16:29:36.717625Z"
    }
   },
   "outputs": [],
   "source": [
    "### https://pytorch.org/tutorials/beginner/dcgan_faces_tutorial.html\n",
    "\n",
    "fig = plt.figure(figsize=(8,8))\n",
    "plt.axis(\"off\")\n",
    "ims = [[plt.imshow(np.transpose(i,(1,2,0)), animated=True)] for i in img_list]\n",
    "ani = animation.ArtistAnimation(fig, ims, interval=1000, repeat_delay=1000, blit=True)\n",
    "\n",
    "HTML(ani.to_jshtml())"
   ]
  },
  {
   "cell_type": "code",
   "execution_count": null,
   "metadata": {
    "execution": {
     "iopub.execute_input": "2023-06-11T16:30:08.817825Z",
     "iopub.status.busy": "2023-06-11T16:30:08.816731Z",
     "iopub.status.idle": "2023-06-11T16:30:09.972047Z",
     "shell.execute_reply": "2023-06-11T16:30:09.971086Z",
     "shell.execute_reply.started": "2023-06-11T16:30:08.817784Z"
    }
   },
   "outputs": [],
   "source": [
    "real_batch = next(iter(test_dataloader))\n",
    "plt.figure(figsize=(15,15))\n",
    "plt.subplot(1,2,1)\n",
    "plt.axis(\"off\")\n",
    "plt.title(\"Real Images\")\n",
    "plt.imshow(np.transpose(vutils.make_grid(real_batch[0].to(device)[:64],\n",
    "                            padding=5, normalize=True).cpu(),(1,2,0)))\n",
    "plt.subplot(1,2,2)\n",
    "plt.axis(\"off\")\n",
    "plt.title(\"Fake Images\")\n",
    "plt.imshow(np.transpose(img_list[-1],(1,2,0)))\n",
    "plt.show()"
   ]
  }
 ],
 "metadata": {
  "accelerator": "GPU",
  "colab": {
   "gpuType": "T4",
   "provenance": []
  },
  "kernelspec": {
   "display_name": "Python 3",
   "language": "python",
   "name": "python3"
  },
  "language_info": {
   "codemirror_mode": {
    "name": "ipython",
    "version": 3
   },
   "file_extension": ".py",
   "mimetype": "text/x-python",
   "name": "python",
   "nbconvert_exporter": "python",
   "pygments_lexer": "ipython3",
   "version": "3.8.8"
  },
  "widgets": {
   "application/vnd.jupyter.widget-state+json": {
    "25fdd53d4f724af2b4082468b13012a0": {
     "model_module": "@jupyter-widgets/controls",
     "model_module_version": "1.5.0",
     "model_name": "HBoxModel",
     "state": {
      "_dom_classes": [],
      "_model_module": "@jupyter-widgets/controls",
      "_model_module_version": "1.5.0",
      "_model_name": "HBoxModel",
      "_view_count": null,
      "_view_module": "@jupyter-widgets/controls",
      "_view_module_version": "1.5.0",
      "_view_name": "HBoxView",
      "box_style": "",
      "children": [
       "IPY_MODEL_fe18abae42dc41dc9f8605e5671d7a7a",
       "IPY_MODEL_b40f264fe75c4cdb877d22858e0cbf75",
       "IPY_MODEL_938f08577bf440f7b5652c668932db10"
      ],
      "layout": "IPY_MODEL_a4b784549c2f4e0d8c9172a549545a58"
     }
    },
    "79bd76246b764afabad409b608a7ac9f": {
     "model_module": "@jupyter-widgets/controls",
     "model_module_version": "1.5.0",
     "model_name": "DescriptionStyleModel",
     "state": {
      "_model_module": "@jupyter-widgets/controls",
      "_model_module_version": "1.5.0",
      "_model_name": "DescriptionStyleModel",
      "_view_count": null,
      "_view_module": "@jupyter-widgets/base",
      "_view_module_version": "1.2.0",
      "_view_name": "StyleView",
      "description_width": ""
     }
    },
    "938f08577bf440f7b5652c668932db10": {
     "model_module": "@jupyter-widgets/controls",
     "model_module_version": "1.5.0",
     "model_name": "HTMLModel",
     "state": {
      "_dom_classes": [],
      "_model_module": "@jupyter-widgets/controls",
      "_model_module_version": "1.5.0",
      "_model_name": "HTMLModel",
      "_view_count": null,
      "_view_module": "@jupyter-widgets/controls",
      "_view_module_version": "1.5.0",
      "_view_name": "HTMLView",
      "description": "",
      "description_tooltip": null,
      "layout": "IPY_MODEL_a4af1a1c9b1e439d899c19bd757c0eb0",
      "placeholder": "​",
      "style": "IPY_MODEL_79bd76246b764afabad409b608a7ac9f",
      "value": " 246/9030 [06:12&lt;3:39:00,  1.50s/it]"
     }
    },
    "994b5c5f89e14cd08032d2bd8851f884": {
     "model_module": "@jupyter-widgets/base",
     "model_module_version": "1.2.0",
     "model_name": "LayoutModel",
     "state": {
      "_model_module": "@jupyter-widgets/base",
      "_model_module_version": "1.2.0",
      "_model_name": "LayoutModel",
      "_view_count": null,
      "_view_module": "@jupyter-widgets/base",
      "_view_module_version": "1.2.0",
      "_view_name": "LayoutView",
      "align_content": null,
      "align_items": null,
      "align_self": null,
      "border": null,
      "bottom": null,
      "display": null,
      "flex": null,
      "flex_flow": null,
      "grid_area": null,
      "grid_auto_columns": null,
      "grid_auto_flow": null,
      "grid_auto_rows": null,
      "grid_column": null,
      "grid_gap": null,
      "grid_row": null,
      "grid_template_areas": null,
      "grid_template_columns": null,
      "grid_template_rows": null,
      "height": null,
      "justify_content": null,
      "justify_items": null,
      "left": null,
      "margin": null,
      "max_height": null,
      "max_width": null,
      "min_height": null,
      "min_width": null,
      "object_fit": null,
      "object_position": null,
      "order": null,
      "overflow": null,
      "overflow_x": null,
      "overflow_y": null,
      "padding": null,
      "right": null,
      "top": null,
      "visibility": null,
      "width": null
     }
    },
    "a4af1a1c9b1e439d899c19bd757c0eb0": {
     "model_module": "@jupyter-widgets/base",
     "model_module_version": "1.2.0",
     "model_name": "LayoutModel",
     "state": {
      "_model_module": "@jupyter-widgets/base",
      "_model_module_version": "1.2.0",
      "_model_name": "LayoutModel",
      "_view_count": null,
      "_view_module": "@jupyter-widgets/base",
      "_view_module_version": "1.2.0",
      "_view_name": "LayoutView",
      "align_content": null,
      "align_items": null,
      "align_self": null,
      "border": null,
      "bottom": null,
      "display": null,
      "flex": null,
      "flex_flow": null,
      "grid_area": null,
      "grid_auto_columns": null,
      "grid_auto_flow": null,
      "grid_auto_rows": null,
      "grid_column": null,
      "grid_gap": null,
      "grid_row": null,
      "grid_template_areas": null,
      "grid_template_columns": null,
      "grid_template_rows": null,
      "height": null,
      "justify_content": null,
      "justify_items": null,
      "left": null,
      "margin": null,
      "max_height": null,
      "max_width": null,
      "min_height": null,
      "min_width": null,
      "object_fit": null,
      "object_position": null,
      "order": null,
      "overflow": null,
      "overflow_x": null,
      "overflow_y": null,
      "padding": null,
      "right": null,
      "top": null,
      "visibility": null,
      "width": null
     }
    },
    "a4b784549c2f4e0d8c9172a549545a58": {
     "model_module": "@jupyter-widgets/base",
     "model_module_version": "1.2.0",
     "model_name": "LayoutModel",
     "state": {
      "_model_module": "@jupyter-widgets/base",
      "_model_module_version": "1.2.0",
      "_model_name": "LayoutModel",
      "_view_count": null,
      "_view_module": "@jupyter-widgets/base",
      "_view_module_version": "1.2.0",
      "_view_name": "LayoutView",
      "align_content": null,
      "align_items": null,
      "align_self": null,
      "border": null,
      "bottom": null,
      "display": null,
      "flex": null,
      "flex_flow": null,
      "grid_area": null,
      "grid_auto_columns": null,
      "grid_auto_flow": null,
      "grid_auto_rows": null,
      "grid_column": null,
      "grid_gap": null,
      "grid_row": null,
      "grid_template_areas": null,
      "grid_template_columns": null,
      "grid_template_rows": null,
      "height": null,
      "justify_content": null,
      "justify_items": null,
      "left": null,
      "margin": null,
      "max_height": null,
      "max_width": null,
      "min_height": null,
      "min_width": null,
      "object_fit": null,
      "object_position": null,
      "order": null,
      "overflow": null,
      "overflow_x": null,
      "overflow_y": null,
      "padding": null,
      "right": null,
      "top": null,
      "visibility": null,
      "width": null
     }
    },
    "b40f264fe75c4cdb877d22858e0cbf75": {
     "model_module": "@jupyter-widgets/controls",
     "model_module_version": "1.5.0",
     "model_name": "FloatProgressModel",
     "state": {
      "_dom_classes": [],
      "_model_module": "@jupyter-widgets/controls",
      "_model_module_version": "1.5.0",
      "_model_name": "FloatProgressModel",
      "_view_count": null,
      "_view_module": "@jupyter-widgets/controls",
      "_view_module_version": "1.5.0",
      "_view_name": "ProgressView",
      "bar_style": "",
      "description": "",
      "description_tooltip": null,
      "layout": "IPY_MODEL_994b5c5f89e14cd08032d2bd8851f884",
      "max": 9030,
      "min": 0,
      "orientation": "horizontal",
      "style": "IPY_MODEL_d1a0b1e2b69a4cfe869db64c9d501a3a",
      "value": 246
     }
    },
    "d1a0b1e2b69a4cfe869db64c9d501a3a": {
     "model_module": "@jupyter-widgets/controls",
     "model_module_version": "1.5.0",
     "model_name": "ProgressStyleModel",
     "state": {
      "_model_module": "@jupyter-widgets/controls",
      "_model_module_version": "1.5.0",
      "_model_name": "ProgressStyleModel",
      "_view_count": null,
      "_view_module": "@jupyter-widgets/base",
      "_view_module_version": "1.2.0",
      "_view_name": "StyleView",
      "bar_color": null,
      "description_width": ""
     }
    },
    "de4dc796265f46e1b553cd056a2c06b2": {
     "model_module": "@jupyter-widgets/base",
     "model_module_version": "1.2.0",
     "model_name": "LayoutModel",
     "state": {
      "_model_module": "@jupyter-widgets/base",
      "_model_module_version": "1.2.0",
      "_model_name": "LayoutModel",
      "_view_count": null,
      "_view_module": "@jupyter-widgets/base",
      "_view_module_version": "1.2.0",
      "_view_name": "LayoutView",
      "align_content": null,
      "align_items": null,
      "align_self": null,
      "border": null,
      "bottom": null,
      "display": null,
      "flex": null,
      "flex_flow": null,
      "grid_area": null,
      "grid_auto_columns": null,
      "grid_auto_flow": null,
      "grid_auto_rows": null,
      "grid_column": null,
      "grid_gap": null,
      "grid_row": null,
      "grid_template_areas": null,
      "grid_template_columns": null,
      "grid_template_rows": null,
      "height": null,
      "justify_content": null,
      "justify_items": null,
      "left": null,
      "margin": null,
      "max_height": null,
      "max_width": null,
      "min_height": null,
      "min_width": null,
      "object_fit": null,
      "object_position": null,
      "order": null,
      "overflow": null,
      "overflow_x": null,
      "overflow_y": null,
      "padding": null,
      "right": null,
      "top": null,
      "visibility": null,
      "width": null
     }
    },
    "e0ce992bb4714c51a1000492b28af9ac": {
     "model_module": "@jupyter-widgets/controls",
     "model_module_version": "1.5.0",
     "model_name": "DescriptionStyleModel",
     "state": {
      "_model_module": "@jupyter-widgets/controls",
      "_model_module_version": "1.5.0",
      "_model_name": "DescriptionStyleModel",
      "_view_count": null,
      "_view_module": "@jupyter-widgets/base",
      "_view_module_version": "1.2.0",
      "_view_name": "StyleView",
      "description_width": ""
     }
    },
    "fe18abae42dc41dc9f8605e5671d7a7a": {
     "model_module": "@jupyter-widgets/controls",
     "model_module_version": "1.5.0",
     "model_name": "HTMLModel",
     "state": {
      "_dom_classes": [],
      "_model_module": "@jupyter-widgets/controls",
      "_model_module_version": "1.5.0",
      "_model_name": "HTMLModel",
      "_view_count": null,
      "_view_module": "@jupyter-widgets/controls",
      "_view_module_version": "1.5.0",
      "_view_name": "HTMLView",
      "description": "",
      "description_tooltip": null,
      "layout": "IPY_MODEL_de4dc796265f46e1b553cd056a2c06b2",
      "placeholder": "​",
      "style": "IPY_MODEL_e0ce992bb4714c51a1000492b28af9ac",
      "value": "  3%"
     }
    }
   }
  }
 },
 "nbformat": 4,
 "nbformat_minor": 4
}
