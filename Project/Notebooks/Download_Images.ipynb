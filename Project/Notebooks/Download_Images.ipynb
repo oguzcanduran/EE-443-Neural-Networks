{
 "cells": [
  {
   "cell_type": "code",
   "execution_count": 1,
   "id": "6e9a2be8",
   "metadata": {},
   "outputs": [],
   "source": [
    "import h5py\n",
    "import requests\n",
    "import os\n",
    "import numpy as np\n",
    "from tqdm.notebook import tqdm"
   ]
  },
  {
   "cell_type": "code",
   "execution_count": 2,
   "id": "92b9b3e7",
   "metadata": {},
   "outputs": [],
   "source": [
    "path = r\"C:\\Users\\Oguz\\Desktop\\Untitled Folder\\443\\\\\"\n",
    "\n",
    "train_path = path + 'trainimages'\n",
    "test_path= path + 'testimages'\n",
    "\n",
    "if not os.path.exists(train_path):\n",
    "    os.mkdir(train_path)\n",
    "    \n",
    "if not os.path.exists(test_path):\n",
    "    os.mkdir(test_path)"
   ]
  },
  {
   "cell_type": "code",
   "execution_count": 3,
   "id": "fcd2e8fd",
   "metadata": {},
   "outputs": [],
   "source": [
    "train_dataset = h5py.File(r\"C:\\Users\\Oguz\\Desktop\\Untitled Folder\\443\\eee443_project_dataset_train.h5\",'r')\n",
    "test_dataset = h5py.File(r\"C:\\Users\\Oguz\\Desktop\\Untitled Folder\\443\\eee443_project_dataset_test.h5\",'r')\n",
    "\n",
    "train_url = train_dataset[\"train_url\"][()]\n",
    "test_url = test_dataset[\"test_url\"][()]"
   ]
  },
  {
   "cell_type": "code",
   "execution_count": 6,
   "id": "a6530c78",
   "metadata": {},
   "outputs": [
    {
     "data": {
      "text/plain": [
       "array([(627., 317., 784., 865., 156., 829., 113., 234., 241., 749., 257., 505., 170., 274., 409., 693., 629., 297., 641., 49., 935., 13., 713., 226., 147., 774., 594., 112., 23., 799., 14., 142., 737., 500., 196., 758., 615., 496., 847., 762., 461., 659., 663., 837., 765., 99., 95., 927., 443., 29., 411., 619., 746., 791., 37., 195., 699., 696., 920., 995., 349., 184., 617., 236., 59., 440., 798., 25., 300., 305., 734., 825., 642., 60., 972., 706., 167., 91., 948., 511., 576., 55., 513., 176., 340., 338., 637., 239., 0., 875., 710., 785., 980., 178., 146., 315., 2., 219., 704., 607., 81., 721., 777., 263., 52., 203., 1003., 53., 117., 460., 681., 548., 221., 756., 294., 79., 412., 425., 245., 356., 493., 827., 286., 931., 933., 776., 903., 820., 730., 688., 473., 566., 422., 547., 911., 632., 251., 672., 344., 985., 555., 924., 882., 488., 17., 770., 97., 687., 507., 403., 959., 16., 818., 21., 423., 318., 891., 558., 722., 876., 939., 192., 689., 296., 39., 486., 450., 115., 808., 327., 429., 206., 960., 614., 186., 575., 954., 298., 44., 469., 90., 141., 129., 533., 723., 892., 51., 357., 520., 674., 456., 994., 384., 367., 915., 515., 213., 553., 351., 717., 951., 292., 336., 893., 240., 779., 164., 747., 530., 874., 255., 683., 984., 152., 969., 227., 816., 259., 880., 269., 427., 370., 140., 295., 819., 824., 76., 67., 266., 188., 653., 968., 475., 651., 640., 878., 280., 128., 454., 621., 204., 586., 583., 12., 4., 377., 673., 665., 174., 185., 804., 559., 125., 945., 833., 574., 200., 424., 670., 57., 237., 623., 733., 660., 477., 93., 769., 451., 480., 957., 328., 105., 131., 282., 231., 293., 943., 114., 171., 1., 732., 34., 463., 772., 764., 894., 585., 528., 126., 190., 135., 304., 554., 225., 253., 363., 61., 812., 434., 466., 527., 669., 484., 119., 579., 361., 41., 887., 218., 439., 743., 936., 343., 964., 725., 970., 470., 839., 526., 690., 134., 457., 953., 380., 69., 863., 254., 768., 212., 256., 332., 830., 997., 581., 600., 522., 508., 849., 183., 96., 537., 396., 556., 87., 122., 386., 497., 702., 990., 230., 711., 864., 604., 400., 72., 1001., 857., 224., 879., 788., 48., 546., 912., 130., 220., 202., 145., 562., 946., 877., 535., 753., 635., 323., 697., 720., 534., 810., 551., 86., 987., 767., 869., 180., 631., 932., 438., 835., 452., 896., 417., 326., 65., 958., 889., 458., 591., 393., 926., 107., 678., 993., 630., 187., 963., 388., 826., 132., 281., 3., 163., 84., 111., 426., 179., 346., 339., 550., 33., 433., 491., 102., 947., 229., 232., 542., 941., 22., 728., 320., 392., 902., 836., 991., 410., 26., 471., 587., 139., 940., 201., 796., 655., 668., 598., 290., 272., 133., 442., 74., 314., 355., 815., 467., 468., 565., 10., 405., 843., 194., 787., 404., 858., 278., 761., 643., 965., 449., 472., 754., 628., 261., 981., 729., 650., 750., 73., 169., 483., 462., 523., 648., 751., 68., 383., 895., 311., 407., 487., 606., 215., 289., 748., 846., 313., 375., 564., 918., 276., 252., 885., 538., 792., 913., 501., 524., 348., 47., 358., 871., 510., 726., 803., 760., 368., 228., 56., 541., 154., 934., 759., 291., 914., 794., 498., 518., 66., 331., 572., 271., 652., 597., 208., 577., 707., 366., 949., 121., 273., 42., 610., 46., 602., 89., 43., 40., 309., 299., 285., 149., 444., 100., 709., 394., 372., 805., 247., 626., 897., 382., 389., 157., 567., 661., 324., 599., 962., 872., 509., 391., 989., 679., 671., 335., 739., 973., 172., 316., 900., 447., 490., 283., 441., 853., 118., 20., 907., 205., 207., 138., 1002., 700., 755., 322., 512., 714., 649., 312., 143., 303., 866., 416., 813., 909., 582., 242., 745., 908., 390., 664., 998., 654., 1000., 319., 517., 414., 364., 62., 692., 63., 267., 341., 136., 233., 354., 321., 831., 329., 921., 771., 848., 996., 557., 682., 807., 636., 719., 360., 137., 676., 580., 342., 601., 275., 886., 705., 24., 821., 244., 166., 58., 686., 181., 78., 502., 922., 474., 616., 971., 873., 345., 727., 277., 264., 603., 482., 592., 974., 613., 148., 718., 938., 590., 910., 544., 904., 841., 155., 492., 977., 432., 561., 691., 402., 814., 265., 325., 588., 123., 279., 38., 817., 455., 744., 453., 620., 11., 476., 31., 563., 406., 222., 905., 284., 8., 223., 98., 437., 976., 521., 193., 658., 189., 647., 955., 161., 494., 773., 243., 884., 307., 94., 413., 489., 75., 464., 525., 783., 495., 191., 752., 362., 262., 519., 539., 789., 248., 928., 445., 214., 158., 431., 479., 667., 677., 173., 28., 270., 385., 589., 622., 7., 638., 446., 211., 573., 209., 162., 108., 399., 859., 481., 809., 742., 800., 675., 944., 395., 596., 639., 506., 724., 379., 503., 334., 982., 531., 150., 421., 103., 741., 371., 418., 116., 568., 54., 250., 656., 353., 106., 168., 77., 986., 288., 680., 979., 398., 92., 177., 159., 127., 310., 560., 374., 308., 436., 485., 715., 376., 716., 287., 666., 930., 605., 844., 790., 850., 992., 337., 695., 217., 856., 929., 645., 144., 612., 301., 19., 30., 165., 459., 978., 182., 347., 735., 983., 822., 373., 80., 890., 435., 901., 408., 618., 883., 988., 330., 757., 397., 333., 854., 937., 109., 782., 694., 867., 923., 811., 529., 806., 840., 780., 708., 906., 657., 625., 870., 50., 763., 5., 350., 569., 306., 6., 420., 571., 595., 199., 540., 85., 797., 151., 532., 32., 917., 608., 646., 478., 952., 359., 801., 88., 104., 832., 210., 82., 736., 249., 916., 268., 793., 198., 260., 942., 967., 465., 514., 235., 898., 246., 64., 703., 609., 838., 740., 430., 862., 802., 552., 925., 365., 516., 9., 543., 378., 786., 778., 387., 868., 160., 448., 36., 549., 644., 698., 633., 381., 110., 238., 258., 851., 83., 795., 781., 899., 593., 15., 662., 124., 634., 18., 919., 419., 701., 888., 845., 961., 731., 684., 999., 428., 197., 369., 834., 302., 828., 35., 70., 27., 860., 216., 823., 545., 570., 101., 120., 956., 685., 504., 975., 855., 584., 738., 415., 578., 861., 852., 775., 71., 842., 352., 881., 175., 966., 611., 712., 153., 401., 766., 45., 499., 624., 950., 536.)],\n",
       "      dtype=[('shop', '<f8'), ('all', '<f8'), ('seated', '<f8'), ('pointing', '<f8'), ('skis', '<f8'), ('foot', '<f8'), ('yellow', '<f8'), ('four', '<f8'), ('skate', '<f8'), ('asian', '<f8'), ('hanging', '<f8'), ('dish', '<f8'), ('chair', '<f8'), ('children', '<f8'), ('row', '<f8'), ('equipment', '<f8'), ('feeding', '<f8'), ('tv', '<f8'), ('fenced', '<f8'), ('young', '<f8'), ('suits', '<f8'), ('to', '<f8'), ('bicycles', '<f8'), ('bike', '<f8'), ('under', '<f8'), ('cluttered', '<f8'), ('enjoying', '<f8'), ('brown', '<f8'), ('woman', '<f8'), ('garden', '<f8'), ('sitting', '<f8'), ('very', '<f8'), ('dessert', '<f8'), ('blanket', '<f8'), ('wave', '<f8'), ('spoon', '<f8'), ('closeup', '<f8'), ('sunny', '<f8'), ('kitten', '<f8'), ('stacked', '<f8'), ('drinking', '<f8'), ('fireplace', '<f8'), ('school', '<f8'), ('clouds', '<f8'), ('couches', '<f8'), ('wooden', '<f8'), ('laying', '<f8'), ('colors', '<f8'), ('cloudy', '<f8'), ('large', '<f8'), ('sand', '<f8'), ('woods', '<f8'), ('subway', '<f8'), ('team', '<f8'), ('small', '<f8'), ('sidewalk', '<f8'), ('rack', '<f8'), ('clothes', '<f8'), ('pants', '<f8'), ('cap', '<f8'), ('bicycle', '<f8'), ('fence', '<f8'), ('phones', '<f8'), ('skiing', '<f8'), ('sign', '<f8'), ('past', '<f8'), ('go', '<f8'), ('street', '<f8'), ('video', '<f8'), ('traveling', '<f8'), ('run', '<f8'), ('arms', '<f8'), ('drinks', '<f8'), ('blue', '<f8'), ('what', '<f8'), ('plays', '<f8'), ('stands', '<f8'), ('clock', '<f8'), ('giving', '<f8'), ('sun', '<f8'), ('cooking', '<f8'), ('xWhile', '<f8'), ('uniform', '<f8'), ('cell', '<f8'), ('lights', '<f8'), ('waiting', '<f8'), ('poles', '<f8'), ('above', '<f8'), ('x_NULL_', '<f8'), ('new', '<f8'), ('suitcases', '<f8'), ('blender', '<f8'), ('racing', '<f8'), ('bird', '<f8'), ('filled', '<f8'), ('body', '<f8'), ('x_END_', '<f8'), ('full', '<f8'), ('sinks', '<f8'), ('gathered', '<f8'), ('men', '<f8'), ('commercial', '<f8'), ('french', '<f8'), ('herd', '<f8'), ('water', '<f8'), ('tracks', '<f8'), ('apartment', '<f8'), ('baseball', '<f8'), ('sink', '<f8'), ('making', '<f8'), ('alone', '<f8'), ('path', '<f8'), ('along', '<f8'), ('trail', '<f8'), ('box', '<f8'), ('boy', '<f8'), ('kids', '<f8'), ('colored', '<f8'), ('luggage', '<f8'), ('items', '<f8'), ('leaves', '<f8'), ('rocky', '<f8'), ('airport', '<f8'), ('smoke', '<f8'), ('action', '<f8'), ('military', '<f8'), ('narrow', '<f8'), ('pillow', '<f8'), ('sticking', '<f8'), ('control', '<f8'), ('apple', '<f8'), ('family', '<f8'), ('buses', '<f8'), ('pitch', '<f8'), ('transit', '<f8'), ('pasture', '<f8'), ('wii', '<f8'), ('sliced', '<f8'), ('snowboard', '<f8'), ('tomato', '<f8'), ('motor', '<f8'), ('toys', '<f8'), ('kind', '<f8'), ('market', '<f8'), ('standing', '<f8'), ('swings', '<f8'), ('from', '<f8'), ('takes', '<f8'), ('working', '<f8'), ('donuts', '<f8'), ('contains', '<f8'), ('two', '<f8'), ('rackets', '<f8'), ('next', '<f8'), ('few', '<f8'), ('wood', '<f8'), ('overhead', '<f8'), ('vehicle', '<f8'), ('taken', '<f8'), ('type', '<f8'), ('plain', '<f8'), ('horses', '<f8'), ('flat', '<f8'), ('door', '<f8'), ('tennis', '<f8'), ('stone', '<f8'), ('chocolate', '<f8'), ('phone', '<f8'), ('flag', '<f8'), ('carrying', '<f8'), ('adult', '<f8'), ('baby', '<f8'), ('hole', '<f8'), ('mounted', '<f8'), ('women', '<f8'), ('town', '<f8'), ('grill', '<f8'), ('animals', '<f8'), ('room', '<f8'), ('salad', '<f8'), ('player', '<f8'), ('this', '<f8'), ('car', '<f8'), ('ride', '<f8'), ('work', '<f8'), ('roof', '<f8'), ('cat', '<f8'), ('decker', '<f8'), ('donut', '<f8'), ('striped', '<f8'), ('can', '<f8'), ('island', '<f8'), ('pulling', '<f8'), ('male', '<f8'), ('veggies', '<f8'), ('beautiful', '<f8'), ('grassy', '<f8'), ('pieces', '<f8'), ('high', '<f8'), ('foods', '<f8'), ('carrot', '<f8'), ('posing', '<f8'), ('something', '<f8'), ('pond', '<f8'), ('cows', '<f8'), ('sunglasses', '<f8'), ('airplane', '<f8'), ('surfers', '<f8'), ('dress', '<f8'), ('tan', '<f8'), ('pink', '<f8'), ('huge', '<f8'), ('six', '<f8'), ('court', '<f8'), ('winter', '<f8'), ('sit', '<f8'), ('onions', '<f8'), ('holds', '<f8'), ('machine', '<f8'), ('hot', '<f8'), ('forest', '<f8'), ('animal', '<f8'), ('elephant', '<f8'), ('boats', '<f8'), ('gate', '<f8'), ('toddler', '<f8'), ('beach', '<f8'), ('pizza', '<f8'), ('buildings', '<f8'), ('sandwich', '<f8'), ('bags', '<f8'), ('structure', '<f8'), ('watch', '<f8'), ('after', '<f8'), ('containing', '<f8'), ('tied', '<f8'), ('jumping', '<f8'), ('trees', '<f8'), ('waves', '<f8'), ('xEnd', '<f8'), ('vase', '<f8'), ('lap', '<f8'), ('types', '<f8'), ('man', '<f8'), ('a', '<f8'), ('surfing', '<f8'), ('neck', '<f8'), ('crowded', '<f8'), ('light', '<f8'), ('counter', '<f8'), ('eats', '<f8'), ('shore', '<f8'), ('truck', '<f8'), ('shade', '<f8'), ('things', '<f8'), ('basket', '<f8'), ('tall', '<f8'), ('lined', '<f8'), ('pulled', '<f8'), ('playing', '<f8'), ('wine', '<f8'), ('cute', '<f8'), ('serving', '<f8'), ('shoes', '<f8'), ('office', '<f8'), ('over', '<f8'), ('toward', '<f8'), ('displayed', '<f8'), ('meter', '<f8'), ('held', '<f8'), ('paper', '<f8'), ('through', '<f8'), ('motorcycle', '<f8'), ('oven', '<f8'), ('signs', '<f8'), ('smiling', '<f8'), ('still', '<f8'), ('its', '<f8'), ('bunch', '<f8'), ('x_START_', '<f8'), ('style', '<f8'), ('group', '<f8'), ('monitor', '<f8'), ('reflection', '<f8'), ('backpack', '<f8'), ('sale', '<f8'), ('lamp', '<f8'), ('platform', '<f8'), ('window', '<f8'), ('orange', '<f8'), ('covered', '<f8'), ('soccer', '<f8'), ('sauce', '<f8'), ('image', '<f8'), ('them', '<f8'), ('someone', '<f8'), ('food', '<f8'), ('wooded', '<f8'), ('oranges', '<f8'), ('scene', '<f8'), ('underneath', '<f8'), ('tile', '<f8'), ('walls', '<f8'), ('giraffe', '<f8'), ('they', '<f8'), ('hands', '<f8'), ('front', '<f8'), ('cage', '<f8'), ('day', '<f8'), ('bread', '<f8'), ('smiles', '<f8'), ('gets', '<f8'), ('meat', '<f8'), ('lies', '<f8'), ('potatoes', '<f8'), ('leading', '<f8'), ('rocks', '<f8'), ('floors', '<f8'), ('stopped', '<f8'), ('tomatoes', '<f8'), ('each', '<f8'), ('crossing', '<f8'), ('beneath', '<f8'), ('tray', '<f8'), ('side', '<f8'), ('trailer', '<f8'), ('glasses', '<f8'), ('square', '<f8'), ('elephants', '<f8'), ('doing', '<f8'), ('house', '<f8'), ('fish', '<f8'), ('hard', '<f8'), ('plant', '<f8'), ('bowls', '<f8'), ('surfboards', '<f8'), ('books', '<f8'), ('doors', '<f8'), ('zebra', '<f8'), ('girl', '<f8'), ('skateboarding', '<f8'), ('enclosure', '<f8'), ('sandy', '<f8'), ('out', '<f8'), ('living', '<f8'), ('shown', '<f8'), ('flower', '<f8'), ('container', '<f8'), ('opened', '<f8'), ('driving', '<f8'), ('space', '<f8'), ('electronic', '<f8'), ('jump', '<f8'), ('surrounded', '<f8'), ('looking', '<f8'), ('farm', '<f8'), ('race', '<f8'), ('hill', '<f8'), ('wide', '<f8'), ('get', '<f8'), ('red', '<f8'), ('shows', '<f8'), ('foreground', '<f8'), ('umbrella', '<f8'), ('dirt', '<f8'), ('cars', '<f8'), ('little', '<f8'), ('cart', '<f8'), ('houses', '<f8'), ('graze', '<f8'), ('base', '<f8'), ('cement', '<f8'), ('cattle', '<f8'), ('guy', '<f8'), ('bushes', '<f8'), ('poses', '<f8'), ('yard', '<f8'), ('shelves', '<f8'), ('computers', '<f8'), ('skateboard', '<f8'), ('used', '<f8'), ('round', '<f8'), ('turn', '<f8'), ('plane', '<f8'), ('place', '<f8'), ('pepperoni', '<f8'), ('swing', '<f8'), ('snowboarding', '<f8'), ('onto', '<f8'), ('bite', '<f8'), ('silver', '<f8'), ('cheese', '<f8'), ('there', '<f8'), ('features', '<f8'), ('pots', '<f8'), ('coming', '<f8'), ('doughnuts', '<f8'), ('number', '<f8'), ('fancy', '<f8'), ('one', '<f8'), ('feet', '<f8'), ('lettuce', '<f8'), ('plants', '<f8'), ('another', '<f8'), ('ties', '<f8'), ('scissors', '<f8'), ('cups', '<f8'), ('open', '<f8'), ('umbrellas', '<f8'), ('x_UNK_', '<f8'), ('sheep', '<f8'), ('city', '<f8'), ('horse', '<f8'), ('toy', '<f8'), ('hydrant', '<f8'), ('jet', '<f8'), ('bears', '<f8'), ('vases', '<f8'), ('top', '<f8'), ('girls', '<f8'), ('plastic', '<f8'), ('their', '<f8'), ('leash', '<f8'), ('station', '<f8'), ('stuffed', '<f8'), ('time', '<f8'), ('wrapped', '<f8'), ('white', '<f8'), ('legs', '<f8'), ('banana', '<f8'), ('store', '<f8'), ('urban', '<f8'), ('eyes', '<f8'), ('streets', '<f8'), ('way', '<f8'), ('that', '<f8'), ('shelf', '<f8'), ('hotel', '<f8'), ('park', '<f8'), ('short', '<f8'), ('flowers', '<f8'), ('stairs', '<f8'), ('center', '<f8'), ('steel', '<f8'), ('distance', '<f8'), ('television', '<f8'), ('double', '<f8'), ('tree', '<f8'), ('grey', '<f8'), ('bed', '<f8'), ('dogs', '<f8'), ('shower', '<f8'), ('stall', '<f8'), ('apples', '<f8'), ('fruits', '<f8'), ('country', '<f8'), ('and', '<f8'), ('bridge', '<f8'), ('before', '<f8'), ('giraffes', '<f8'), ('docked', '<f8'), ('carrots', '<f8'), ('ceiling', '<f8'), ('talking', '<f8'), ('outdoors', '<f8'), ('graffiti', '<f8'), ('pastry', '<f8'), ('have', '<f8'), ('seen', '<f8'), ('breakfast', '<f8'), ('gear', '<f8'), ('mountain', '<f8'), ('decorative', '<f8'), ('dishes', '<f8'), ('concrete', '<f8'), ('shorts', '<f8'), ('snow', '<f8'), ('couch', '<f8'), ('lit', '<f8'), ('dining', '<f8'), ('edge', '<f8'), ('take', '<f8'), ('which', '<f8'), ('green', '<f8'), ('rides', '<f8'), ('rider', '<f8'), ('surf', '<f8'), ('play', '<f8'), ('towards', '<f8'), ('multiple', '<f8'), ('zebras', '<f8'), ('track', '<f8'), ('serve', '<f8'), ('eggs', '<f8'), ('who', '<f8'), ('mouth', '<f8'), ('eaten', '<f8'), ('net', '<f8'), ('pair', '<f8'), ('refrigerator', '<f8'), ('pastries', '<f8'), ('cellphone', '<f8'), ('lawn', '<f8'), ('cloth', '<f8'), ('windows', '<f8'), ('clear', '<f8'), ('metal', '<f8'), ('dog', '<f8'), ('face', '<f8'), ('sunset', '<f8'), ('clean', '<f8'), ('professional', '<f8'), ('hotdog', '<f8'), ('painting', '<f8'), ('lying', '<f8'), ('slope', '<f8'), ('walking', '<f8'), ('shot', '<f8'), ('kite', '<f8'), ('gold', '<f8'), ('show', '<f8'), ('stove', '<f8'), ('walkway', '<f8'), ('hillside', '<f8'), ('bright', '<f8'), ('bikes', '<f8'), ('parked', '<f8'), ('bedroom', '<f8'), ('perched', '<f8'), ('corner', '<f8'), ('chicken', '<f8'), ('tiled', '<f8'), ('ground', '<f8'), ('tarmac', '<f8'), ('giant', '<f8'), ('busy', '<f8'), ('scooter', '<f8'), ('outside', '<f8'), ('going', '<f8'), ('black', '<f8'), ('pretty', '<f8'), ('riding', '<f8'), ('rice', '<f8'), ('wearing', '<f8'), ('plate', '<f8'), ('his', '<f8'), ('hit', '<f8'), ('colorful', '<f8'), ('watching', '<f8'), ('stop', '<f8'), ('photograph', '<f8'), ('bear', '<f8'), ('dry', '<f8'), ('batter', '<f8'), ('preparing', '<f8'), ('wedding', '<f8'), ('during', '<f8'), ('candles', '<f8'), ('chips', '<f8'), ('him', '<f8'), ('gray', '<f8'), ('bat', '<f8'), ('catcher', '<f8'), ('bar', '<f8'), ('motorcycles', '<f8'), ('trucks', '<f8'), ('leather', '<f8'), ('boarder', '<f8'), ('public', '<f8'), ('bag', '<f8'), ('containers', '<f8'), ('she', '<f8'), ('including', '<f8'), ('river', '<f8'), ('where', '<f8'), ('steam', '<f8'), ('view', '<f8'), ('set', '<f8'), ('picnic', '<f8'), ('throwing', '<f8'), ('fries', '<f8'), ('keyboard', '<f8'), ('seat', '<f8'), ('see', '<f8'), ('computer', '<f8'), ('are', '<f8'), ('sea', '<f8'), ('parking', '<f8'), ('racket', '<f8'), ('close', '<f8'), ('stack', '<f8'), ('arm', '<f8'), ('wire', '<f8'), ('lots', '<f8'), ('pictures', '<f8'), ('away', '<f8'), ('below', '<f8'), ('birds', '<f8'), ('behind', '<f8'), ('various', '<f8'), ('closed', '<f8'), ('between', '<f8'), ('drawn', '<f8'), ('hold', '<f8'), ('reading', '<f8'), ('across', '<f8'), ('lays', '<f8'), ('toilets', '<f8'), ('screen', '<f8'), ('planes', '<f8'), ('outfit', '<f8'), ('toothbrush', '<f8'), ('produce', '<f8'), ('coffee', '<f8'), ('police', '<f8'), ('tub', '<f8'), ('surfer', '<f8'), ('kitchen', '<f8'), ('both', '<f8'), ('grass', '<f8'), ('cow', '<f8'), ('restaurant', '<f8'), ('many', '<f8'), ('taking', '<f8'), ('ramp', '<f8'), ('against', '<f8'), ('restroom', '<f8'), ('players', '<f8'), ('doorway', '<f8'), ('games', '<f8'), ('party', '<f8'), ('residential', '<f8'), ('passing', '<f8'), ('nearby', '<f8'), ('among', '<f8'), ('flies', '<f8'), ('pose', '<f8'), ('passenger', '<f8'), ('wall', '<f8'), ('pot', '<f8'), ('others', '<f8'), ('walk', '<f8'), ('variety', '<f8'), ('pole', '<f8'), ('towels', '<f8'), ('church', '<f8'), ('table', '<f8'), ('desktop', '<f8'), ('grazing', '<f8'), ('boat', '<f8'), ('bathroom', '<f8'), ('trunk', '<f8'), ('teddy', '<f8'), ('three', '<f8'), ('been', '<f8'), ('appears', '<f8'), ('hitting', '<f8'), ('beer', '<f8'), ('peppers', '<f8'), ('curtain', '<f8'), ('brick', '<f8'), ('staring', '<f8'), ('empty', '<f8'), ('kites', '<f8'), ('engine', '<f8'), ('resting', '<f8'), ('modern', '<f8'), ('commuter', '<f8'), ('passengers', '<f8'), ('fire', '<f8'), ('airplanes', '<f8'), ('clothing', '<f8'), ('laptops', '<f8'), ('photos', '<f8'), ('controller', '<f8'), ('mans', '<f8'), ('ice', '<f8'), ('child', '<f8'), ('xCatch', '<f8'), ('vanity', '<f8'), ('skiers', '<f8'), ('xCase', '<f8'), ('skateboards', '<f8'), ('look', '<f8'), ('ledge', '<f8'), ('ski', '<f8'), ('runway', '<f8'), ('single', '<f8'), ('air', '<f8'), ('trick', '<f8'), ('near', '<f8'), ('skies', '<f8'), ('leaning', '<f8'), ('wild', '<f8'), ('cats', '<f8'), ('bathtub', '<f8'), ('is', '<f8'), ('lush', '<f8'), ('it', '<f8'), ('surface', '<f8'), ('sleeping', '<f8'), ('middle', '<f8'), ('reads', '<f8'), ('swinging', '<f8'), ('in', '<f8'), ('ready', '<f8'), ('sits', '<f8'), ('mouse', '<f8'), ('ship', '<f8'), ('helmet', '<f8'), ('different', '<f8'), ('bottles', '<f8'), ('shirt', '<f8'), ('vintage', '<f8'), ('make', '<f8'), ('bowl', '<f8'), ('cross', '<f8'), ('same', '<f8'), ('beside', '<f8'), ('vegetable', '<f8'), ('plates', '<f8'), ('several', '<f8'), ('showing', '<f8'), ('pan', '<f8'), ('ball', '<f8'), ('drink', '<f8'), ('rail', '<f8'), ('drives', '<f8'), ('rain', '<f8'), ('hand', '<f8'), ('persons', '<f8'), ('running', '<f8'), ('fruit', '<f8'), ('moving', '<f8'), ('statue', '<f8'), ('assortment', '<f8'), ('broccoli', '<f8'), ('loaded', '<f8'), ('kid', '<f8'), ('off', '<f8'), ('surfboard', '<f8'), ('older', '<f8'), ('no', '<f8'), ('well', '<f8'), ('boxes', '<f8'), ('ocean', '<f8'), ('person', '<f8'), ('cutting', '<f8'), ('bottle', '<f8'), ('trains', '<f8'), ('five', '<f8'), ('the', '<f8'), ('left', '<f8'), ('outdoor', '<f8'), ('bananas', '<f8'), ('just', '<f8'), ('being', '<f8'), ('photo', '<f8'), ('laptop', '<f8'), ('half', '<f8'), ('cakes', '<f8'), ('birthday', '<f8'), ('mid', '<f8'), ('not', '<f8'), ('clocks', '<f8'), ('dock', '<f8'), ('rest', '<f8'), ('zoo', '<f8'), ('guys', '<f8'), ('railroad', '<f8'), ('tables', '<f8'), ('polar', '<f8'), ('cut', '<f8'), ('snowboarder', '<f8'), ('cup', '<f8'), ('pier', '<f8'), ('slices', '<f8'), ('sky', '<f8'), ('lake', '<f8'), ('bench', '<f8'), ('hay', '<f8'), ('book', '<f8'), ('pile', '<f8'), ('board', '<f8'), ('wet', '<f8'), ('has', '<f8'), ('hat', '<f8'), ('match', '<f8'), ('skier', '<f8'), ('around', '<f8'), ('big', '<f8'), ('couple', '<f8'), ('papers', '<f8'), ('looks', '<f8'), ('fridge', '<f8'), ('bow', '<f8'), ('dark', '<f8'), ('game', '<f8'), ('traffic', '<f8'), ('background', '<f8'), ('desk', '<f8'), ('using', '<f8'), ('doughnut', '<f8'), ('intersection', '<f8'), ('lady', '<f8'), ('furniture', '<f8'), ('painted', '<f8'), ('towel', '<f8'), ('like', '<f8'), ('shaped', '<f8'), ('chairs', '<f8'), ('sofa', '<f8'), ('signal', '<f8'), ('performing', '<f8'), ('glove', '<f8'), ('controllers', '<f8'), ('steps', '<f8'), ('officer', '<f8'), ('night', '<f8'), ('served', '<f8'), ('tower', '<f8'), ('coat', '<f8'), ('antique', '<f8'), ('right', '<f8'), ('old', '<f8'), ('appliances', '<f8'), ('crowd', '<f8'), ('people', '<f8'), ('some', '<f8'), ('back', '<f8'), ('hair', '<f8'), ('palm', '<f8'), ('mirror', '<f8'), ('home', '<f8'), ('mother', '<f8'), ('electric', '<f8'), ('facing', '<f8'), ('slice', '<f8'), ('xFor', '<f8'), ('bottom', '<f8'), ('purple', '<f8'), ('ear', '<f8'), ('microwave', '<f8'), ('pen', '<f8'), ('does', '<f8'), ('railing', '<f8'), ('skateboarder', '<f8'), ('christmas', '<f8'), ('knife', '<f8'), ('be', '<f8'), ('says', '<f8'), ('object', '<f8'), ('eating', '<f8'), ('business', '<f8'), ('reaching', '<f8'), ('monitors', '<f8'), ('tour', '<f8'), ('jumps', '<f8'), ('rock', '<f8'), ('rug', '<f8'), ('broken', '<f8'), ('soup', '<f8'), ('putting', '<f8'), ('pasta', '<f8'), ('sandwiches', '<f8'), ('post', '<f8'), ('kneeling', '<f8'), ('by', '<f8'), ('highway', '<f8'), ('on', '<f8'), ('about', '<f8'), ('boards', '<f8'), ('getting', '<f8'), ('of', '<f8'), ('meal', '<f8'), ('dinner', '<f8'), ('toppings', '<f8'), ('stand', '<f8'), ('or', '<f8'), ('road', '<f8'), ('swimming', '<f8'), ('into', '<f8'), ('bath', '<f8'), ('down', '<f8'), ('device', '<f8'), ('benches', '<f8'), ('brush', '<f8'), ('female', '<f8'), ('petting', '<f8'), ('racquet', '<f8'), ('van', '<f8'), ('her', '<f8'), ('area', '<f8'), ('stainless', '<f8'), ('vegetables', '<f8'), ('flying', '<f8'), ('lone', '<f8'), ('long', '<f8'), ('sides', '<f8'), ('camera', '<f8'), ('low', '<f8'), ('lot', '<f8'), ('suit', '<f8'), ('was', '<f8'), ('blurry', '<f8'), ('fork', '<f8'), ('mountains', '<f8'), ('head', '<f8'), ('himself', '<f8'), ('snowy', '<f8'), ('bus', '<f8'), ('atop', '<f8'), ('pitcher', '<f8'), ('landing', '<f8'), ('cabinet', '<f8'), ('boys', '<f8'), ('construction', '<f8'), ('bun', '<f8'), ('branch', '<f8'), ('fighter', '<f8'), ('line', '<f8'), ('trying', '<f8'), ('with', '<f8'), ('eat', '<f8'), ('he', '<f8'), ('boarding', '<f8'), ('throw', '<f8'), ('made', '<f8'), ('arranged', '<f8'), ('inside', '<f8'), ('attached', '<f8'), ('up', '<f8'), ('placed', '<f8'), ('carriage', '<f8'), ('catching', '<f8'), ('dirty', '<f8'), ('suitcase', '<f8'), ('cake', '<f8'), ('piece', '<f8'), ('display', '<f8'), ('skating', '<f8'), ('toilet', '<f8'), ('adults', '<f8'), ('umpire', '<f8'), ('pie', '<f8'), ('watches', '<f8'), ('an', '<f8'), ('fly', '<f8'), ('as', '<f8'), ('curb', '<f8'), ('at', '<f8'), ('fashioned', '<f8'), ('walks', '<f8'), ('floating', '<f8'), ('messy', '<f8'), ('flock', '<f8'), ('partially', '<f8'), ('cream', '<f8'), ('beds', '<f8'), ('rainy', '<f8'), ('cabinets', '<f8'), ('floor', '<f8'), ('dressed', '<f8'), ('assorted', '<f8'), ('topped', '<f8'), ('event', '<f8'), ('field', '<f8'), ('other', '<f8'), ('holding', '<f8'), ('someones', '<f8'), ('tie', '<f8'), ('trash', '<f8'), ('nice', '<f8'), ('brushing', '<f8'), ('picture', '<f8'), ('frisbee', '<f8'), ('kinds', '<f8'), ('pillows', '<f8'), ('setting', '<f8'), ('prepared', '<f8'), ('lunch', '<f8'), ('nintendo', '<f8'), ('prepares', '<f8'), ('decorated', '<f8'), ('pizzas', '<f8'), ('friends', '<f8'), ('desert', '<f8'), ('pool', '<f8'), ('building', '<f8'), ('land', '<f8'), ('remote', '<f8'), ('overlooking', '<f8'), ('glass', '<f8'), ('pedestrians', '<f8'), ('tricks', '<f8'), ('vehicles', '<f8'), ('together', '<f8'), ('jacket', '<f8'), ('cooked', '<f8'), ('train', '<f8'), ('teeth', '<f8'), ('fresh', '<f8'), ('baked', '<f8'), ('having', '<f8')])"
      ]
     },
     "execution_count": 6,
     "metadata": {},
     "output_type": "execute_result"
    }
   ],
   "source": [
    "train_dataset[\"word_code\"][()]"
   ]
  },
  {
   "cell_type": "code",
   "execution_count": 7,
   "id": "32174e97",
   "metadata": {},
   "outputs": [],
   "source": [
    "def download_images(img_dir, train_url):\n",
    "    \n",
    "    os.makedirs(img_dir, exist_ok=True)\n",
    "    os.chdir(img_dir)\n",
    "\n",
    "    for item in tqdm(range(len(train_url))):\n",
    "        \n",
    "        url = train_url[item].decode('utf-8')\n",
    "\n",
    "        filename = str(item) + \".png\"\n",
    "        filepath = os.path.join(img_dir, filename)\n",
    "\n",
    "        reqs = requests.get(url, allow_redirects=True, stream=True)\n",
    "        if reqs.status_code == 200:\n",
    "            with open(filepath, 'wb') as f:\n",
    "                for chunk in reqs.iter_content(1024):\n",
    "                    f.write(chunk)\n",
    "    return\n",
    "\n",
    "\n",
    "############ BURDA DEĞİŞTİRME VAR"
   ]
  },
  {
   "cell_type": "code",
   "execution_count": null,
   "id": "92e104ca",
   "metadata": {},
   "outputs": [],
   "source": [
    "if os.path.exists(train_path):\n",
    "    download_images(train_path, train_url)"
   ]
  },
  {
   "cell_type": "code",
   "execution_count": null,
   "id": "4329d2dd",
   "metadata": {},
   "outputs": [],
   "source": [
    "if os.path.exists(test_path):\n",
    "    download_images(test_path, test_url)"
   ]
  }
 ],
 "metadata": {
  "kernelspec": {
   "display_name": "Python 3",
   "language": "python",
   "name": "python3"
  },
  "language_info": {
   "codemirror_mode": {
    "name": "ipython",
    "version": 3
   },
   "file_extension": ".py",
   "mimetype": "text/x-python",
   "name": "python",
   "nbconvert_exporter": "python",
   "pygments_lexer": "ipython3",
   "version": "3.8.8"
  }
 },
 "nbformat": 4,
 "nbformat_minor": 5
}
