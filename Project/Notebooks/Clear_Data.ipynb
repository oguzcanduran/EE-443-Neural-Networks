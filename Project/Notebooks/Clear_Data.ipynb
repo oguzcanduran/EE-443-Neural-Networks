{
 "cells": [
  {
   "cell_type": "code",
   "execution_count": 1,
   "id": "b28b1893",
   "metadata": {},
   "outputs": [],
   "source": [
    "import os\n",
    "import h5py\n",
    "import numpy\n",
    "from tqdm import tqdm"
   ]
  },
  {
   "cell_type": "code",
   "execution_count": null,
   "id": "6a033512",
   "metadata": {},
   "outputs": [],
   "source": [
    "train_dataset = h5py.File('/kaggle/input/443-datasets/eee443_project_dataset_train.h5','r')\n",
    "train_cap = train_dataset[\"train_cap\"][()]\n",
    "train_imid = train_dataset[\"train_imid\"][()]\n",
    "train_url = train_dataset[\"train_url\"][()]\n",
    "\n",
    "test_dataset = h5py.File('/kaggle/input/443-datasets/eee443_project_dataset_test.h5','r')\n",
    "test_cap = test_dataset[\"test_caps\"][()]\n",
    "test_imid = test_dataset[\"test_imid\"][()]\n",
    "test_url=test_dataset[\"test_url\"][()]"
   ]
  },
  {
   "cell_type": "code",
   "execution_count": null,
   "id": "9472e053",
   "metadata": {},
   "outputs": [],
   "source": [
    "train_img_dir=\"/kaggle/input/443-train-images/443images\"\n",
    "test_img_dir=\"/kaggle/input/443-test-images/443test_images\""
   ]
  },
  {
   "cell_type": "code",
   "execution_count": null,
   "id": "da41c903",
   "metadata": {},
   "outputs": [],
   "source": [
    "direc= os.listdir(train_img_dir)\n",
    "truth_table=[]\n",
    "for i in tqdm(train_imid):\n",
    "    if str(i)+ \".png\" in direc:\n",
    "        truth_table.append(True)\n",
    "    else:\n",
    "        truth_table.append(False)\n",
    "truth_array=np.array(truth_table)\n",
    "train_imid2=train_imid[truth_array]\n",
    "train_cap2=train_cap[truth_array]\n",
    "np.save(\"trainimid.npy\",train_imid2)\n",
    "np.save(\"traicap.npy\",train_cap2)"
   ]
  },
  {
   "cell_type": "code",
   "execution_count": null,
   "id": "b3221b05",
   "metadata": {},
   "outputs": [],
   "source": [
    "direc2= os.listdir(test_img_dir)\n",
    "truth_table2=[]\n",
    "for i in tqdm(test_imid):\n",
    "  if str(i)+ \".png\" in direc2:\n",
    "    truth_table2.append(True)\n",
    "  else:\n",
    "    truth_table2.append(False)\n",
    "    \n",
    "truth_array2=np.array(truth_table2)\n",
    "test_imid2=test_imid[truth_array2]\n",
    "test_cap2=test_cap[truth_array2]\n",
    "np.save(\"testimid.npy\",test_imid2)\n",
    "np.save(\"testcap.npy\",test_cap2)"
   ]
  }
 ],
 "metadata": {
  "kernelspec": {
   "display_name": "Python 3",
   "language": "python",
   "name": "python3"
  },
  "language_info": {
   "codemirror_mode": {
    "name": "ipython",
    "version": 3
   },
   "file_extension": ".py",
   "mimetype": "text/x-python",
   "name": "python",
   "nbconvert_exporter": "python",
   "pygments_lexer": "ipython3",
   "version": "3.8.8"
  }
 },
 "nbformat": 4,
 "nbformat_minor": 5
}
