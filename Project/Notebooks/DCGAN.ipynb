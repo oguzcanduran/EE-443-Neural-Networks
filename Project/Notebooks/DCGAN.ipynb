{
 "cells": [
  {
   "cell_type": "code",
   "execution_count": null,
   "metadata": {
    "execution": {
     "iopub.execute_input": "2023-06-10T17:51:20.706073Z",
     "iopub.status.busy": "2023-06-10T17:51:20.705646Z",
     "iopub.status.idle": "2023-06-10T17:51:42.674949Z",
     "shell.execute_reply": "2023-06-10T17:51:42.673979Z",
     "shell.execute_reply.started": "2023-06-10T17:51:20.706038Z"
    },
    "id": "nogQq5e4vUnk"
   },
   "outputs": [],
   "source": [
    "import h5py\n",
    "import pandas as pd\n",
    "import numpy as np\n",
    "import os\n",
    "from tqdm import tqdm\n",
    "import requests\n",
    "from PIL import Image\n",
    "import time\n",
    "import torch\n",
    "import h5py\n",
    "import glob\n",
    "import cv2\n",
    "import matplotlib.pyplot as plt\n",
    "from torch.utils.data import Dataset, DataLoader\n",
    "from torchvision import transforms\n",
    "from transformers import BertTokenizer, TFBertModel\n",
    "import torchtext.vocab as vocab\n",
    "import argparse\n",
    "import random\n",
    "import torch.nn as nn\n",
    "import torch.nn.parallel\n",
    "import torch.backends.cudnn as cudnn\n",
    "import torch.optim as optim\n",
    "import torch.utils.data\n",
    "import torchvision.datasets as dset\n",
    "import torchvision.transforms as transforms\n",
    "import torchvision.utils as vutils\n",
    "import matplotlib.pyplot as plt\n",
    "import matplotlib.animation as animation\n",
    "from IPython.display import HTML\n",
    "from torch.utils.data import Dataset\n",
    "from torchvision import transforms\n",
    "from transformers import BertTokenizer, TFBertModel\n",
    "from tqdm.notebook import tqdm\n",
    "from PIL import ImageFile\n",
    "ImageFile.LOAD_TRUNCATED_IMAGES = True"
   ]
  },
  {
   "cell_type": "code",
   "execution_count": null,
   "metadata": {
    "execution": {
     "iopub.execute_input": "2023-06-10T17:51:59.900533Z",
     "iopub.status.busy": "2023-06-10T17:51:59.899797Z",
     "iopub.status.idle": "2023-06-10T17:52:02.077643Z",
     "shell.execute_reply": "2023-06-10T17:52:02.076682Z",
     "shell.execute_reply.started": "2023-06-10T17:51:59.900504Z"
    },
    "id": "d8SZujbTvF-c"
   },
   "outputs": [],
   "source": [
    "train_dataset = h5py.File('/kaggle/input/443-datasets/eee443_project_dataset_train.h5','r')\n",
    "\n",
    "train_cap = train_dataset[\"train_cap\"][()]\n",
    "train_imid = train_dataset[\"train_imid\"][()]\n",
    "train_url = train_dataset[\"train_url\"][()]\n",
    "train_ims = train_dataset[\"train_ims\"][()]\n",
    "word_code = train_dataset[\"word_code\"][()]\n",
    "\n",
    "\n",
    "test_dataset = h5py.File('/kaggle/input/443-datasets/eee443_project_dataset_test.h5','r')\n",
    "test_cap = test_dataset[\"test_caps\"][()]\n",
    "test_imid = test_dataset[\"test_imid\"][()]\n",
    "test_url=test_dataset[\"test_url\"][()]"
   ]
  },
  {
   "cell_type": "code",
   "execution_count": null,
   "metadata": {
    "execution": {
     "iopub.execute_input": "2023-06-10T17:52:02.079972Z",
     "iopub.status.busy": "2023-06-10T17:52:02.079611Z",
     "iopub.status.idle": "2023-06-10T17:52:02.111115Z",
     "shell.execute_reply": "2023-06-10T17:52:02.110150Z",
     "shell.execute_reply.started": "2023-06-10T17:52:02.079942Z"
    }
   },
   "outputs": [],
   "source": [
    "words = pd.DataFrame(word_code)\n",
    "words = words.sort_values(0, axis=1)\n",
    "array_of_words = np.asarray(words.columns)\n",
    "\n",
    "word_dict = {}\n",
    "index_dict = {}\n",
    "for i in range(len(array_of_words)):\n",
    " w = array_of_words[i]\n",
    " word_dict[w] = i\n",
    " index_dict[i] = w"
   ]
  },
  {
   "cell_type": "code",
   "execution_count": null,
   "metadata": {
    "execution": {
     "iopub.execute_input": "2023-06-10T17:52:02.113302Z",
     "iopub.status.busy": "2023-06-10T17:52:02.112902Z",
     "iopub.status.idle": "2023-06-10T17:52:02.119416Z",
     "shell.execute_reply": "2023-06-10T17:52:02.118283Z",
     "shell.execute_reply.started": "2023-06-10T17:52:02.113268Z"
    },
    "id": "EBDJc0CevwTc"
   },
   "outputs": [],
   "source": [
    "train_img_dir=\"/kaggle/input/443-train-images/443images\"\n",
    "test_img_dir=\"/kaggle/input/443-test-images/443test_images\""
   ]
  },
  {
   "cell_type": "code",
   "execution_count": null,
   "metadata": {
    "execution": {
     "iopub.execute_input": "2023-06-10T17:52:04.423194Z",
     "iopub.status.busy": "2023-06-10T17:52:04.422146Z",
     "iopub.status.idle": "2023-06-10T17:52:04.780854Z",
     "shell.execute_reply": "2023-06-10T17:52:04.779825Z",
     "shell.execute_reply.started": "2023-06-10T17:52:04.423157Z"
    }
   },
   "outputs": [],
   "source": [
    "train_imid2=np.load(\"/kaggle/input/cleaned-data/trainimid.npy\") \n",
    "train_cap2=np.load(\"/kaggle/input/cleaned-data/traicap.npy\")\n",
    "test_imid2=np.load(\"/kaggle/input/cleaned-data/testimid.npy\")\n",
    "test_cap2=np.load(\"/kaggle/input/cleaned-data/testcap.npy\")"
   ]
  },
  {
   "cell_type": "code",
   "execution_count": null,
   "metadata": {
    "execution": {
     "iopub.execute_input": "2023-06-10T17:52:04.869178Z",
     "iopub.status.busy": "2023-06-10T17:52:04.868814Z",
     "iopub.status.idle": "2023-06-10T17:52:04.881669Z",
     "shell.execute_reply": "2023-06-10T17:52:04.880582Z",
     "shell.execute_reply.started": "2023-06-10T17:52:04.869149Z"
    },
    "id": "LBgDVMBHwoE3"
   },
   "outputs": [],
   "source": [
    "\n",
    "class Create_Dataset(Dataset):\n",
    "\n",
    "  def __init__(self, imid, cap, dir_path, **kwargs):\n",
    "\n",
    "   self.dir_path = dir_path\n",
    "   self.sample_n = len(imid)\n",
    "\n",
    "   self.imid = imid\n",
    "   self.cap = cap\n",
    "\n",
    "  def __len__(self):\n",
    "\n",
    "    return self.sample_n\n",
    "\n",
    "  def __getitem__(self, ind):\n",
    "\n",
    "     imgpath = self.dir_path + \"/\" + str(self.imid[ind]) + \".png\"\n",
    "     self.image = Image.open(imgpath).convert(\"RGB\")\n",
    "\n",
    "     data_tensor = self.ImageToTensor(self.image)\n",
    "\n",
    "     return (data_tensor, self.cap[ind])\n",
    "\n",
    "  def ImageToTensor(self, img):\n",
    "\n",
    "    transform_with_resize = transforms.Compose([\n",
    "         transforms.Resize(64),\n",
    "         transforms.CenterCrop(64),\n",
    "         transforms.ToTensor(),\n",
    "         transforms.Normalize((0.485,0.456,0.406), (0.229,0.224,0.225))\n",
    "    ])\n",
    "    get_image = transforms.Compose([transforms.ToPILImage()])\n",
    "    img_rsz = transform_with_resize(img)\n",
    "    tns_to_img = get_image(img_rsz)\n",
    "\n",
    "    if img_rsz.shape[0]>3:\n",
    "     img_rsz = img_rsz[:3]\n",
    "    return img_rsz\n",
    "\n",
    "  def get_splits(self):\n",
    "\n",
    "   n_tra = int(0.85 * self.sample_n)\n",
    "   n_val = self.sample_n-n_tra\n",
    "    \n",
    "   self.get_train, self.get_val = torch.utils.data.random_split(self, [n_tra, n_val])\n"
   ]
  },
  {
   "cell_type": "code",
   "execution_count": null,
   "metadata": {
    "execution": {
     "iopub.execute_input": "2023-06-10T17:52:05.912346Z",
     "iopub.status.busy": "2023-06-10T17:52:05.911969Z",
     "iopub.status.idle": "2023-06-10T17:52:05.917256Z",
     "shell.execute_reply": "2023-06-10T17:52:05.915831Z",
     "shell.execute_reply.started": "2023-06-10T17:52:05.912308Z"
    },
    "id": "6O-ECrrbw11X"
   },
   "outputs": [],
   "source": [
    "train_set = Create_Dataset(train_imid2, train_cap2, train_img_dir)\n",
    "test_set = Create_Dataset(test_imid2, test_cap2, test_img_dir)\n",
    "torch.cuda.empty_cache()"
   ]
  },
  {
   "cell_type": "code",
   "execution_count": null,
   "metadata": {
    "execution": {
     "iopub.execute_input": "2023-06-10T17:52:06.868542Z",
     "iopub.status.busy": "2023-06-10T17:52:06.867876Z",
     "iopub.status.idle": "2023-06-10T17:52:06.947388Z",
     "shell.execute_reply": "2023-06-10T17:52:06.946302Z",
     "shell.execute_reply.started": "2023-06-10T17:52:06.868513Z"
    },
    "id": "SUFSmisL7oLq"
   },
   "outputs": [],
   "source": [
    "train_set.get_splits()\n",
    "validation_data = train_set.get_val\n",
    "train_data = train_set.get_train\n",
    "print(len(train_data))\n",
    "print(len(validation_data))"
   ]
  },
  {
   "cell_type": "code",
   "execution_count": null,
   "metadata": {
    "execution": {
     "iopub.execute_input": "2023-06-10T17:52:11.304890Z",
     "iopub.status.busy": "2023-06-10T17:52:11.304197Z",
     "iopub.status.idle": "2023-06-10T17:52:11.317886Z",
     "shell.execute_reply": "2023-06-10T17:52:11.316777Z",
     "shell.execute_reply.started": "2023-06-10T17:52:11.304830Z"
    }
   },
   "outputs": [],
   "source": [
    "torch.cuda.empty_cache()\n",
    "train_dataloader = torch.utils.data.DataLoader(\n",
    "\n",
    "  dataset=train_data,\n",
    "\n",
    "  batch_size=64,\n",
    "\n",
    "  shuffle=True,\n",
    "\n",
    "  num_workers=0,\n",
    "\n",
    "  drop_last = True\n",
    "\n",
    ")"
   ]
  },
  {
   "cell_type": "code",
   "execution_count": null,
   "metadata": {
    "execution": {
     "iopub.execute_input": "2023-06-10T17:52:13.115975Z",
     "iopub.status.busy": "2023-06-10T17:52:13.115614Z",
     "iopub.status.idle": "2023-06-10T17:52:13.122270Z",
     "shell.execute_reply": "2023-06-10T17:52:13.121136Z",
     "shell.execute_reply.started": "2023-06-10T17:52:13.115947Z"
    }
   },
   "outputs": [],
   "source": [
    "torch.cuda.empty_cache()\n",
    "val_dataloader = torch.utils.data.DataLoader(\n",
    "\n",
    "    dataset=validation_data,\n",
    "\n",
    "    batch_size=64,\n",
    "\n",
    "    shuffle=False,\n",
    "\n",
    "    num_workers=0,\n",
    "\n",
    "    drop_last = True\n",
    "\n",
    ")"
   ]
  },
  {
   "cell_type": "code",
   "execution_count": null,
   "metadata": {
    "execution": {
     "iopub.execute_input": "2023-06-10T17:52:14.295435Z",
     "iopub.status.busy": "2023-06-10T17:52:14.295091Z",
     "iopub.status.idle": "2023-06-10T17:52:14.303570Z",
     "shell.execute_reply": "2023-06-10T17:52:14.302054Z",
     "shell.execute_reply.started": "2023-06-10T17:52:14.295408Z"
    }
   },
   "outputs": [],
   "source": [
    "torch.cuda.empty_cache()\n",
    "\n",
    "test_dataloader = torch.utils.data.DataLoader(\n",
    "\n",
    "    dataset=test_set,\n",
    "\n",
    "    batch_size=64,\n",
    "\n",
    "    shuffle=False,\n",
    "\n",
    "    num_workers=0,\n",
    "\n",
    "    drop_last = True\n",
    "\n",
    ")\n",
    "print(len(test_dataloader))"
   ]
  },
  {
   "cell_type": "code",
   "execution_count": null,
   "metadata": {
    "execution": {
     "iopub.execute_input": "2023-06-10T17:52:17.588644Z",
     "iopub.status.busy": "2023-06-10T17:52:17.588267Z",
     "iopub.status.idle": "2023-06-10T17:52:35.214734Z",
     "shell.execute_reply": "2023-06-10T17:52:35.213831Z",
     "shell.execute_reply.started": "2023-06-10T17:52:17.588616Z"
    }
   },
   "outputs": [],
   "source": [
    "name_bert=\"prajjwal1/bert-small\"\n",
    "\n",
    "tokenizer=BertTokenizer.from_pretrained(name_bert)\n",
    "\n",
    "model = TFBertModel.from_pretrained(name_bert,from_pt=True)\n",
    "\n",
    "def enc_sntcs(sntc):\n",
    "\n",
    " cap_list = []\n",
    "\n",
    " for i in sntc:\n",
    "\n",
    "     cap_list.append(array_of_words[i])\n",
    "\n",
    " s = \" \".join(cap_list)\n",
    "\n",
    "\n",
    "\n",
    " encd = tokenizer.batch_enc_plus(\n",
    "\n",
    "                [s],\n",
    "\n",
    "                max_length=512,\n",
    "\n",
    "                pad_to_max_length=False,\n",
    "\n",
    "                return_tensors=\"pt\",\n",
    "\n",
    "                truncation=True,\n",
    "\n",
    "            )\n",
    "\n",
    "\n",
    "\n",
    " input_ids = np.array(encd[\"input_ids\"], dtype=\"int32\")\n",
    "\n",
    " out = model(input_ids)\n",
    "\n",
    " seq, pool = out[:2]\n",
    "\n",
    " return pool[0]"
   ]
  },
  {
   "cell_type": "code",
   "execution_count": null,
   "metadata": {
    "execution": {
     "iopub.execute_input": "2023-06-10T17:52:35.217202Z",
     "iopub.status.busy": "2023-06-10T17:52:35.216748Z",
     "iopub.status.idle": "2023-06-10T17:52:35.222939Z",
     "shell.execute_reply": "2023-06-10T17:52:35.221822Z",
     "shell.execute_reply.started": "2023-06-10T17:52:35.217167Z"
    }
   },
   "outputs": [],
   "source": [
    "def enc_sntcs_batch(sntcs):\n",
    " enc_sntcs = []\n",
    " for sntc in sntcs:\n",
    "  enc_sntcs.append(enc_sntcs(sntc))\n",
    " return torch.tensor(np.array(enc_sntcs))"
   ]
  },
  {
   "cell_type": "code",
   "execution_count": null,
   "metadata": {
    "execution": {
     "iopub.execute_input": "2023-06-10T17:52:51.847594Z",
     "iopub.status.busy": "2023-06-10T17:52:51.847228Z",
     "iopub.status.idle": "2023-06-10T17:52:51.860674Z",
     "shell.execute_reply": "2023-06-10T17:52:51.859544Z",
     "shell.execute_reply.started": "2023-06-10T17:52:51.847566Z"
    }
   },
   "outputs": [],
   "source": [
    "rand_index=443 ## for reproduction\n",
    "random.seed(rand_index)\n",
    "torch.manual_seed(rand_index)"
   ]
  },
  {
   "cell_type": "code",
   "execution_count": null,
   "metadata": {
    "execution": {
     "iopub.execute_input": "2023-06-10T17:52:56.492376Z",
     "iopub.status.busy": "2023-06-10T17:52:56.492017Z",
     "iopub.status.idle": "2023-06-10T17:52:56.499302Z",
     "shell.execute_reply": "2023-06-10T17:52:56.498101Z",
     "shell.execute_reply.started": "2023-06-10T17:52:56.492342Z"
    }
   },
   "outputs": [],
   "source": [
    "### https://pytorch.org/tutorials/beginner/dcgan_faces_tutorial.html\n",
    "\n",
    "workers = 1\n",
    "batch_size = 64\n",
    "image_size = 64\n",
    "nc = 3\n",
    "nz = 128\n",
    "ngf = 64\n",
    "ndf = 64\n",
    "num_epochs = 1\n",
    "lr = 2e-4\n",
    "beta1 = 0.5\n",
    "ngpu = 2"
   ]
  },
  {
   "cell_type": "code",
   "execution_count": null,
   "metadata": {
    "execution": {
     "iopub.execute_input": "2023-06-10T17:52:57.418561Z",
     "iopub.status.busy": "2023-06-10T17:52:57.418167Z",
     "iopub.status.idle": "2023-06-10T17:52:57.425053Z",
     "shell.execute_reply": "2023-06-10T17:52:57.424142Z",
     "shell.execute_reply.started": "2023-06-10T17:52:57.418533Z"
    }
   },
   "outputs": [],
   "source": [
    "### https://pytorch.org/tutorials/beginner/dcgan_faces_tutorial.html\n",
    "\n",
    "def weights_init(m):\n",
    "\n",
    "  classname = m.__class__.__name__\n",
    "\n",
    "  if classname.find('Conv') != -1:\n",
    "    nn.init.xavier_uniform_(m.weight.data)\n",
    "\n",
    "  elif classname.find(\"Linear\") != -1:\n",
    "    nn.init.xavier_uniform_(m.weight.data)\n",
    "    nn.init.constant_(m.bias.data, 0)\n",
    "\n",
    "  elif classname.find('BatchNorm') != -1:\n",
    "    nn.init.normal_(m.weight.data, 1.0, 0.02)\n",
    "    nn.init.constant_(m.bias.data, 0)\n",
    "\n",
    "\n"
   ]
  },
  {
   "cell_type": "code",
   "execution_count": null,
   "metadata": {
    "execution": {
     "iopub.execute_input": "2023-06-10T17:53:01.809485Z",
     "iopub.status.busy": "2023-06-10T17:53:01.808795Z",
     "iopub.status.idle": "2023-06-10T17:53:01.822688Z",
     "shell.execute_reply": "2023-06-10T17:53:01.821533Z",
     "shell.execute_reply.started": "2023-06-10T17:53:01.809454Z"
    }
   },
   "outputs": [],
   "source": [
    "### https://pytorch.org/tutorials/beginner/dcgan_faces_tutorial.html\n",
    "\n",
    "class Generator(nn.Module):\n",
    "  def __init__(self,ngpu):\n",
    "    super(Generator,self).__init__()\n",
    "    self.ngpu = ngpu\n",
    "    self.proj_dim_emb = 128\n",
    "    self.noise_dim = nz\n",
    "    self.latent_dim = self.noise_dim + self.proj_dim_emb\n",
    "    self.epsilon = torch.randn(batch_size,128,1,1,device=device)\n",
    "    self.project = nn.Sequential (\n",
    "                  nn.Linear(512,self.proj_dim_emb),\n",
    "                  nn.BatchNorm1d(num_features=self.proj_dim_emb),\n",
    "                  nn.LeakyReLU(negative_slope=0.2,inplace = True))\n",
    "    self.main = nn.Sequential(\n",
    "      nn.ConvTranspose2d(self.latent_dim, ngf * 8, 4, 1, 0, bias=False),\n",
    "      nn.BatchNorm2d(ngf * 8),\n",
    "      nn.ReLU(True),\n",
    "      nn.ConvTranspose2d(ngf * 8, ngf * 4, 4, 2, 1, bias=False),\n",
    "      nn.BatchNorm2d(ngf * 4),\n",
    "      nn.ReLU(True),\n",
    "      nn.ConvTranspose2d( ngf * 4, ngf * 2, 4, 2, 1, bias=False),\n",
    "      nn.BatchNorm2d(ngf * 2),\n",
    "      nn.ReLU(True),\n",
    "      nn.ConvTranspose2d( ngf * 2, ngf, 4, 2, 1, bias=False),\n",
    "      nn.BatchNorm2d(ngf),\n",
    "      nn.ReLU(True),\n",
    "      nn.ConvTranspose2d( ngf, nc, 4, 2, 1, bias=False),\n",
    "      nn.Tanh()\n",
    "      )\n",
    "\n",
    "  def forward(self, inp,n):\n",
    "\n",
    "    emb = self.project(inp).unsqueeze(2).unsqueeze(3)\n",
    "    lat = torch.concat([emb,n],1)\n",
    "    \n",
    "    return self.main(lat)"
   ]
  },
  {
   "cell_type": "code",
   "execution_count": null,
   "metadata": {
    "execution": {
     "iopub.execute_input": "2023-06-10T17:54:36.181404Z",
     "iopub.status.busy": "2023-06-10T17:54:36.180755Z",
     "iopub.status.idle": "2023-06-10T17:54:36.269557Z",
     "shell.execute_reply": "2023-06-10T17:54:36.268553Z",
     "shell.execute_reply.started": "2023-06-10T17:54:36.181373Z"
    }
   },
   "outputs": [],
   "source": [
    "netG = Generator(ngpu).to(device)\n",
    "if (device.type == 'cuda') and (ngpu > 1):\n",
    "  netG = nn.DataParallel(netG, list(range(ngpu)))\n",
    "# netG.apply(weights_init)  ## Use it for first epoch\n",
    "netG.load_state_dict(torch.load(\"/kaggle/input/dcganep1/netG_0_bs_64.pth\")) ## for the next epochs"
   ]
  },
  {
   "cell_type": "code",
   "execution_count": null,
   "metadata": {
    "execution": {
     "iopub.execute_input": "2023-06-10T17:54:49.245579Z",
     "iopub.status.busy": "2023-06-10T17:54:49.244889Z",
     "iopub.status.idle": "2023-06-10T17:54:49.258698Z",
     "shell.execute_reply": "2023-06-10T17:54:49.257373Z",
     "shell.execute_reply.started": "2023-06-10T17:54:49.245546Z"
    }
   },
   "outputs": [],
   "source": [
    "\n",
    "class Discriminator(nn.Module):\n",
    "  def __init__(self, ngpu):\n",
    "    super(Discriminator, self).__init__()\n",
    "    self.ngpu = ngpu\n",
    "    self.dim_emb = 512\n",
    "    self.proj_dim_emb = 128\n",
    "    self.main = nn.Sequential(\n",
    "      nn.Conv2d(nc, ndf, 4, 2, 1, bias=False),\n",
    "      nn.LeakyReLU(0.2, inplace=True),\n",
    "      nn.Conv2d(ndf, ndf * 2, 4, 2, 1, bias=False),\n",
    "      nn.BatchNorm2d(ndf * 2),\n",
    "      nn.LeakyReLU(0.2, inplace=True),\n",
    "      nn.Conv2d(ndf * 2, ndf * 4, 4, 2, 1, bias=False),\n",
    "      nn.BatchNorm2d(ndf * 4),\n",
    "      nn.LeakyReLU(0.2, inplace=True),\n",
    "      nn.Conv2d(ndf * 4, ndf * 8, 4, 2, 1, bias=False),\n",
    "      nn.BatchNorm2d(ndf * 8),\n",
    "      nn.LeakyReLU(0.2, inplace=True)   )\n",
    "\n",
    "    self.proj = nn.Sequential(\n",
    "        nn.Linear(self.dim_emb,self.proj_dim_emb),\n",
    "        nn.BatchNorm1d(self.proj_dim_emb),\n",
    "        nn.LeakyReLU(negative_slope=0.2, inplace=True)   )\n",
    "\n",
    "    self.aug = nn.Sequential(\n",
    "        nn.Conv2d(8*ndf  + self.proj_dim_emb, 1, 4, 1, 0, bias=False),\n",
    "        nn.Sigmoid()  )\n",
    "\n",
    "\n",
    "\n",
    "  def forward(self, inpimg,capt):\n",
    "    intimg= self.main(inpimg)\n",
    "    emb_proj = self.proj(capt)\n",
    "    emb_rep = emb_proj.repeat(4,4,1,1).permute(2,3,0,1)\n",
    "    conc_hid = torch.concat([intimg,emb_rep],1)\n",
    "    out = self.aug(conc_hid)\n",
    "    return out.view(-1,1).squeeze(1)"
   ]
  },
  {
   "cell_type": "code",
   "execution_count": null,
   "metadata": {
    "execution": {
     "iopub.execute_input": "2023-06-10T17:54:50.772404Z",
     "iopub.status.busy": "2023-06-10T17:54:50.771697Z",
     "iopub.status.idle": "2023-06-10T17:54:50.803515Z",
     "shell.execute_reply": "2023-06-10T17:54:50.802536Z",
     "shell.execute_reply.started": "2023-06-10T17:54:50.772371Z"
    }
   },
   "outputs": [],
   "source": [
    "netD = Discriminator(ngpu).to(device)\n",
    "if (device.type == 'cuda') and (ngpu > 1):\n",
    " netD = nn.DataParallel(netD, list(range(ngpu)))\n",
    "#netD.apply(weights_init)  ## Use for first epoch\n",
    "netD.load_state_dict(torch.load(\"/kaggle/input/dcganep1/netD_0_bs_64.pth\")) ## for the next epochs"
   ]
  },
  {
   "cell_type": "code",
   "execution_count": null,
   "metadata": {
    "execution": {
     "iopub.execute_input": "2023-06-10T17:55:37.234657Z",
     "iopub.status.busy": "2023-06-10T17:55:37.234280Z",
     "iopub.status.idle": "2023-06-10T17:55:37.247940Z",
     "shell.execute_reply": "2023-06-10T17:55:37.241975Z",
     "shell.execute_reply.started": "2023-06-10T17:55:37.234630Z"
    }
   },
   "outputs": [],
   "source": [
    "criterion = nn.BCELoss()\n",
    "fixed_noise = torch.randn(batch_size, nz, 1, 1, device=device)\n",
    "real_label = 1.\n",
    "fake_label = 0.\n",
    "optimizerD = optim.Adam(netD.parameters(), lr=lr, betas=(beta1, 0.999))\n",
    "optimizerG = optim.Adam(netG.parameters(), lr=lr, betas=(beta1, 0.999))"
   ]
  },
  {
   "cell_type": "code",
   "execution_count": null,
   "metadata": {
    "execution": {
     "iopub.execute_input": "2023-06-10T17:56:16.599813Z",
     "iopub.status.busy": "2023-06-10T17:56:16.599425Z",
     "iopub.status.idle": "2023-06-11T00:37:53.109752Z",
     "shell.execute_reply": "2023-06-11T00:37:53.100858Z",
     "shell.execute_reply.started": "2023-06-10T17:56:16.599783Z"
    }
   },
   "outputs": [],
   "source": [
    "### https://pytorch.org/tutorials/beginner/dcgan_faces_tutorial.html\n",
    "\n",
    "img_list = []\n",
    "G_losses = []\n",
    "D_losses = []\n",
    "G_losses_val = []\n",
    "D_losses_val = []\n",
    "iters = 0\n",
    "\n",
    "\n",
    "for epoch in range(num_epochs):\n",
    "  i=0\n",
    "\n",
    "  for imgs, txt_emb in tqdm(train_dataloader):\n",
    "\n",
    "    netD.zero_grad()\n",
    "    img = imgs.to(device)\n",
    "    capts = enc_sntcs_batch(txt_emb).to(device)\n",
    "    b_size = img.size(0)\n",
    "    label = torch.full((b_size,), real_label, dtype=torch.float, device=device)\n",
    "    capts = capts.to(torch.float32)\n",
    "    output = netD(img,capts).view(-1)\n",
    "    errD_real = criterion(output, label)\n",
    "    errD_real.backward()\n",
    "    D_x = output.mean().item()\n",
    "    noise = torch.randn(b_size, nz,1,1, device=device)\n",
    "    fake = netG(capts,noise)\n",
    "    label.fill_(fake_label)\n",
    "    output = netD(fake.detach(),capts).view(-1)\n",
    "    errD_fake = criterion(output, label)\n",
    "    errD_fake.backward()\n",
    "    D_G_z1 = output.mean().item()\n",
    "    errD = errD_real + errD_fake\n",
    "    optimizerD.step()\n",
    "\n",
    "    netG.zero_grad()\n",
    "    label.fill_(real_label) \n",
    "    output = netD(fake,capts).view(-1)\n",
    "    errG = criterion(output, label)\n",
    "    errG.backward()\n",
    "\n",
    "    D_G_z2 = output.mean().item()\n",
    "    optimizerG.step()\n",
    "\n",
    "    if i % 50 == 0:\n",
    "        print('[%d/%d][%d/%d]\\tLoss_D: %.4f\\tLoss_G: %.4f\\tD(x): %.4f\\tD(G(z)): %.4f / %.4f'\n",
    "           % (epoch, num_epochs, i, len(train_dataloader), errD.item(), errG.item(), D_x, D_G_z1, D_G_z2))\n",
    "\n",
    "\n",
    "    G_losses.append(errG.item())\n",
    "    D_losses.append(errD.item())\n",
    "\n",
    "    if (iters % 500 == 0) or ((epoch == num_epochs-1) and (i == len(train_dataloader)-1)):   \n",
    "        with torch.no_grad():\n",
    "            fake = netG(capts,fixed_noise).detach().cpu()\n",
    "        img_list.append(vutils.make_grid(fake, padding=2, normalize=True))\n",
    "    i += 1\n",
    "    iters += 1\n",
    "\n",
    "    \n",
    "  torch.save(netG.state_dict(),\"/kaggle/working/netG_1_bs.pth\")\n",
    "  torch.save(netD.state_dict(),\"/kaggle/working/netD_1_bs.pth\")\n"
   ]
  },
  {
   "cell_type": "code",
   "execution_count": null,
   "metadata": {
    "execution": {
     "iopub.execute_input": "2023-06-11T00:38:41.437287Z",
     "iopub.status.busy": "2023-06-11T00:38:41.436925Z",
     "iopub.status.idle": "2023-06-11T00:38:41.449610Z",
     "shell.execute_reply": "2023-06-11T00:38:41.448634Z",
     "shell.execute_reply.started": "2023-06-11T00:38:41.437260Z"
    }
   },
   "outputs": [],
   "source": [
    "np.save(\"gloss1.npy\",np.array(G_losses))\n",
    "np.save(\"dloss1.npy\",np.array(D_losses))"
   ]
  },
  {
   "cell_type": "code",
   "execution_count": null,
   "metadata": {
    "execution": {
     "iopub.execute_input": "2023-06-11T00:39:05.011718Z",
     "iopub.status.busy": "2023-06-11T00:39:05.011182Z",
     "iopub.status.idle": "2023-06-11T00:39:05.608175Z",
     "shell.execute_reply": "2023-06-11T00:39:05.607179Z",
     "shell.execute_reply.started": "2023-06-11T00:39:05.011681Z"
    }
   },
   "outputs": [],
   "source": [
    "### https://pytorch.org/tutorials/beginner/dcgan_faces_tutorial.html\n",
    "plt.figure(figsize=(10,5))\n",
    "plt.title(\"Generator and Discriminator Loss During Training\")\n",
    "plt.plot(G_losses,label=\"G\")\n",
    "plt.plot(D_losses,label=\"D\")\n",
    "plt.xlabel(\"iterations\")\n",
    "plt.ylabel(\"Loss\")\n",
    "plt.legend()\n",
    "plt.show()"
   ]
  },
  {
   "cell_type": "code",
   "execution_count": null,
   "metadata": {
    "execution": {
     "iopub.execute_input": "2023-06-11T00:39:10.575628Z",
     "iopub.status.busy": "2023-06-11T00:39:10.575253Z",
     "iopub.status.idle": "2023-06-11T00:39:15.880751Z",
     "shell.execute_reply": "2023-06-11T00:39:15.879905Z",
     "shell.execute_reply.started": "2023-06-11T00:39:10.575599Z"
    }
   },
   "outputs": [],
   "source": [
    "### https://pytorch.org/tutorials/beginner/dcgan_faces_tutorial.html\n",
    "\n",
    "fig = plt.figure(figsize=(8,8))\n",
    "plt.axis(\"off\")\n",
    "ims = [[plt.imshow(np.transpose(i,(1,2,0)), animated=True)] for i in img_list]\n",
    "ani = animation.ArtistAnimation(fig, ims, interval=1000, repeat_delay=1000, blit=True)\n",
    "\n",
    "HTML(ani.to_jshtml())"
   ]
  },
  {
   "cell_type": "code",
   "execution_count": null,
   "metadata": {
    "execution": {
     "iopub.execute_input": "2023-06-11T00:39:26.325071Z",
     "iopub.status.busy": "2023-06-11T00:39:26.324667Z",
     "iopub.status.idle": "2023-06-11T00:39:27.727976Z",
     "shell.execute_reply": "2023-06-11T00:39:27.727043Z",
     "shell.execute_reply.started": "2023-06-11T00:39:26.325042Z"
    }
   },
   "outputs": [],
   "source": [
    "real_batch = next(iter(test_dataloader))\n",
    "plt.figure(figsize=(15,15))\n",
    "plt.subplot(1,2,1)\n",
    "plt.axis(\"off\")\n",
    "plt.title(\"Real Images\")\n",
    "plt.imshow(np.transpose(vutils.make_grid(real_batch[0].to(device)[:64],\n",
    "                            padding=5, normalize=True).cpu(),(1,2,0)))\n",
    "plt.subplot(1,2,2)\n",
    "plt.axis(\"off\")\n",
    "plt.title(\"Fake Images\")\n",
    "plt.imshow(np.transpose(img_list[-1],(1,2,0)))\n",
    "plt.show()"
   ]
  }
 ],
 "metadata": {
  "accelerator": "GPU",
  "colab": {
   "gpuType": "T4",
   "provenance": []
  },
  "kernelspec": {
   "display_name": "Python 3",
   "language": "python",
   "name": "python3"
  },
  "language_info": {
   "codemirror_mode": {
    "name": "ipython",
    "version": 3
   },
   "file_extension": ".py",
   "mimetype": "text/x-python",
   "name": "python",
   "nbconvert_exporter": "python",
   "pygments_lexer": "ipython3",
   "version": "3.8.8"
  },
  "widgets": {
   "application/vnd.jupyter.widget-state+json": {
    "25fdd53d4f724af2b4082468b13012a0": {
     "model_module": "@jupyter-widgets/controls",
     "model_module_version": "1.5.0",
     "model_name": "HBoxModel",
     "state": {
      "_dom_classes": [],
      "_model_module": "@jupyter-widgets/controls",
      "_model_module_version": "1.5.0",
      "_model_name": "HBoxModel",
      "_view_count": null,
      "_view_module": "@jupyter-widgets/controls",
      "_view_module_version": "1.5.0",
      "_view_name": "HBoxView",
      "box_style": "",
      "children": [
       "IPY_MODEL_fe18abae42dc41dc9f8605e5671d7a7a",
       "IPY_MODEL_b40f264fe75c4cdb877d22858e0cbf75",
       "IPY_MODEL_938f08577bf440f7b5652c668932db10"
      ],
      "layout": "IPY_MODEL_a4b784549c2f4e0d8c9172a549545a58"
     }
    },
    "79bd76246b764afabad409b608a7ac9f": {
     "model_module": "@jupyter-widgets/controls",
     "model_module_version": "1.5.0",
     "model_name": "DescriptionStyleModel",
     "state": {
      "_model_module": "@jupyter-widgets/controls",
      "_model_module_version": "1.5.0",
      "_model_name": "DescriptionStyleModel",
      "_view_count": null,
      "_view_module": "@jupyter-widgets/base",
      "_view_module_version": "1.2.0",
      "_view_name": "StyleView",
      "description_width": ""
     }
    },
    "938f08577bf440f7b5652c668932db10": {
     "model_module": "@jupyter-widgets/controls",
     "model_module_version": "1.5.0",
     "model_name": "HTMLModel",
     "state": {
      "_dom_classes": [],
      "_model_module": "@jupyter-widgets/controls",
      "_model_module_version": "1.5.0",
      "_model_name": "HTMLModel",
      "_view_count": null,
      "_view_module": "@jupyter-widgets/controls",
      "_view_module_version": "1.5.0",
      "_view_name": "HTMLView",
      "description": "",
      "description_tooltip": null,
      "layout": "IPY_MODEL_a4af1a1c9b1e439d899c19bd757c0eb0",
      "placeholder": "​",
      "style": "IPY_MODEL_79bd76246b764afabad409b608a7ac9f",
      "value": " 246/9030 [06:12&lt;3:39:00,  1.50s/it]"
     }
    },
    "994b5c5f89e14cd08032d2bd8851f884": {
     "model_module": "@jupyter-widgets/base",
     "model_module_version": "1.2.0",
     "model_name": "LayoutModel",
     "state": {
      "_model_module": "@jupyter-widgets/base",
      "_model_module_version": "1.2.0",
      "_model_name": "LayoutModel",
      "_view_count": null,
      "_view_module": "@jupyter-widgets/base",
      "_view_module_version": "1.2.0",
      "_view_name": "LayoutView",
      "align_content": null,
      "align_items": null,
      "align_self": null,
      "border": null,
      "bottom": null,
      "display": null,
      "flex": null,
      "flex_flow": null,
      "grid_area": null,
      "grid_auto_columns": null,
      "grid_auto_flow": null,
      "grid_auto_rows": null,
      "grid_column": null,
      "grid_gap": null,
      "grid_row": null,
      "grid_template_areas": null,
      "grid_template_columns": null,
      "grid_template_rows": null,
      "height": null,
      "justify_content": null,
      "justify_items": null,
      "left": null,
      "margin": null,
      "max_height": null,
      "max_width": null,
      "min_height": null,
      "min_width": null,
      "object_fit": null,
      "object_position": null,
      "order": null,
      "overflow": null,
      "overflow_x": null,
      "overflow_y": null,
      "padding": null,
      "right": null,
      "top": null,
      "visibility": null,
      "width": null
     }
    },
    "a4af1a1c9b1e439d899c19bd757c0eb0": {
     "model_module": "@jupyter-widgets/base",
     "model_module_version": "1.2.0",
     "model_name": "LayoutModel",
     "state": {
      "_model_module": "@jupyter-widgets/base",
      "_model_module_version": "1.2.0",
      "_model_name": "LayoutModel",
      "_view_count": null,
      "_view_module": "@jupyter-widgets/base",
      "_view_module_version": "1.2.0",
      "_view_name": "LayoutView",
      "align_content": null,
      "align_items": null,
      "align_self": null,
      "border": null,
      "bottom": null,
      "display": null,
      "flex": null,
      "flex_flow": null,
      "grid_area": null,
      "grid_auto_columns": null,
      "grid_auto_flow": null,
      "grid_auto_rows": null,
      "grid_column": null,
      "grid_gap": null,
      "grid_row": null,
      "grid_template_areas": null,
      "grid_template_columns": null,
      "grid_template_rows": null,
      "height": null,
      "justify_content": null,
      "justify_items": null,
      "left": null,
      "margin": null,
      "max_height": null,
      "max_width": null,
      "min_height": null,
      "min_width": null,
      "object_fit": null,
      "object_position": null,
      "order": null,
      "overflow": null,
      "overflow_x": null,
      "overflow_y": null,
      "padding": null,
      "right": null,
      "top": null,
      "visibility": null,
      "width": null
     }
    },
    "a4b784549c2f4e0d8c9172a549545a58": {
     "model_module": "@jupyter-widgets/base",
     "model_module_version": "1.2.0",
     "model_name": "LayoutModel",
     "state": {
      "_model_module": "@jupyter-widgets/base",
      "_model_module_version": "1.2.0",
      "_model_name": "LayoutModel",
      "_view_count": null,
      "_view_module": "@jupyter-widgets/base",
      "_view_module_version": "1.2.0",
      "_view_name": "LayoutView",
      "align_content": null,
      "align_items": null,
      "align_self": null,
      "border": null,
      "bottom": null,
      "display": null,
      "flex": null,
      "flex_flow": null,
      "grid_area": null,
      "grid_auto_columns": null,
      "grid_auto_flow": null,
      "grid_auto_rows": null,
      "grid_column": null,
      "grid_gap": null,
      "grid_row": null,
      "grid_template_areas": null,
      "grid_template_columns": null,
      "grid_template_rows": null,
      "height": null,
      "justify_content": null,
      "justify_items": null,
      "left": null,
      "margin": null,
      "max_height": null,
      "max_width": null,
      "min_height": null,
      "min_width": null,
      "object_fit": null,
      "object_position": null,
      "order": null,
      "overflow": null,
      "overflow_x": null,
      "overflow_y": null,
      "padding": null,
      "right": null,
      "top": null,
      "visibility": null,
      "width": null
     }
    },
    "b40f264fe75c4cdb877d22858e0cbf75": {
     "model_module": "@jupyter-widgets/controls",
     "model_module_version": "1.5.0",
     "model_name": "FloatProgressModel",
     "state": {
      "_dom_classes": [],
      "_model_module": "@jupyter-widgets/controls",
      "_model_module_version": "1.5.0",
      "_model_name": "FloatProgressModel",
      "_view_count": null,
      "_view_module": "@jupyter-widgets/controls",
      "_view_module_version": "1.5.0",
      "_view_name": "ProgressView",
      "bar_style": "",
      "description": "",
      "description_tooltip": null,
      "layout": "IPY_MODEL_994b5c5f89e14cd08032d2bd8851f884",
      "max": 9030,
      "min": 0,
      "orientation": "horizontal",
      "style": "IPY_MODEL_d1a0b1e2b69a4cfe869db64c9d501a3a",
      "value": 246
     }
    },
    "d1a0b1e2b69a4cfe869db64c9d501a3a": {
     "model_module": "@jupyter-widgets/controls",
     "model_module_version": "1.5.0",
     "model_name": "ProgressStyleModel",
     "state": {
      "_model_module": "@jupyter-widgets/controls",
      "_model_module_version": "1.5.0",
      "_model_name": "ProgressStyleModel",
      "_view_count": null,
      "_view_module": "@jupyter-widgets/base",
      "_view_module_version": "1.2.0",
      "_view_name": "StyleView",
      "bar_color": null,
      "description_width": ""
     }
    },
    "de4dc796265f46e1b553cd056a2c06b2": {
     "model_module": "@jupyter-widgets/base",
     "model_module_version": "1.2.0",
     "model_name": "LayoutModel",
     "state": {
      "_model_module": "@jupyter-widgets/base",
      "_model_module_version": "1.2.0",
      "_model_name": "LayoutModel",
      "_view_count": null,
      "_view_module": "@jupyter-widgets/base",
      "_view_module_version": "1.2.0",
      "_view_name": "LayoutView",
      "align_content": null,
      "align_items": null,
      "align_self": null,
      "border": null,
      "bottom": null,
      "display": null,
      "flex": null,
      "flex_flow": null,
      "grid_area": null,
      "grid_auto_columns": null,
      "grid_auto_flow": null,
      "grid_auto_rows": null,
      "grid_column": null,
      "grid_gap": null,
      "grid_row": null,
      "grid_template_areas": null,
      "grid_template_columns": null,
      "grid_template_rows": null,
      "height": null,
      "justify_content": null,
      "justify_items": null,
      "left": null,
      "margin": null,
      "max_height": null,
      "max_width": null,
      "min_height": null,
      "min_width": null,
      "object_fit": null,
      "object_position": null,
      "order": null,
      "overflow": null,
      "overflow_x": null,
      "overflow_y": null,
      "padding": null,
      "right": null,
      "top": null,
      "visibility": null,
      "width": null
     }
    },
    "e0ce992bb4714c51a1000492b28af9ac": {
     "model_module": "@jupyter-widgets/controls",
     "model_module_version": "1.5.0",
     "model_name": "DescriptionStyleModel",
     "state": {
      "_model_module": "@jupyter-widgets/controls",
      "_model_module_version": "1.5.0",
      "_model_name": "DescriptionStyleModel",
      "_view_count": null,
      "_view_module": "@jupyter-widgets/base",
      "_view_module_version": "1.2.0",
      "_view_name": "StyleView",
      "description_width": ""
     }
    },
    "fe18abae42dc41dc9f8605e5671d7a7a": {
     "model_module": "@jupyter-widgets/controls",
     "model_module_version": "1.5.0",
     "model_name": "HTMLModel",
     "state": {
      "_dom_classes": [],
      "_model_module": "@jupyter-widgets/controls",
      "_model_module_version": "1.5.0",
      "_model_name": "HTMLModel",
      "_view_count": null,
      "_view_module": "@jupyter-widgets/controls",
      "_view_module_version": "1.5.0",
      "_view_name": "HTMLView",
      "description": "",
      "description_tooltip": null,
      "layout": "IPY_MODEL_de4dc796265f46e1b553cd056a2c06b2",
      "placeholder": "​",
      "style": "IPY_MODEL_e0ce992bb4714c51a1000492b28af9ac",
      "value": "  3%"
     }
    }
   }
  }
 },
 "nbformat": 4,
 "nbformat_minor": 4
}
