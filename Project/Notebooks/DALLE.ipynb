{
 "cells": [
  {
   "cell_type": "code",
   "execution_count": null,
   "metadata": {
    "execution": {
     "iopub.execute_input": "2023-06-11T13:57:06.469960Z",
     "iopub.status.busy": "2023-06-11T13:57:06.469045Z",
     "iopub.status.idle": "2023-06-11T13:57:09.788504Z",
     "shell.execute_reply": "2023-06-11T13:57:09.787610Z",
     "shell.execute_reply.started": "2023-06-11T13:57:06.469911Z"
    },
    "id": "nogQq5e4vUnk"
   },
   "outputs": [],
   "source": [
    "import h5py\n",
    "import pandas as pd\n",
    "import numpy as np\n",
    "import os\n",
    "from tqdm import tqdm\n",
    "import requests\n",
    "from PIL import Image\n",
    "import time\n",
    "import torch\n",
    "import h5py\n",
    "import glob\n",
    "import cv2\n",
    "import matplotlib.pyplot as plt\n",
    "from torch.utils.data import Dataset, DataLoader\n",
    "from torchvision import transforms\n",
    "from torchvision import transforms as T\n",
    "from torch.optim.lr_scheduler import ExponentialLR\n",
    "from tqdm import tqdm\n",
    "! pip install dalle-pytorch\n",
    "!pip install pytorch-lightning==1.8.4\n",
    "from dalle_pytorch import __version__\n",
    "from torch.optim import Adam\n",
    "from torch.optim.lr_scheduler import ExponentialLR\n",
    "from torch.utils.data import DataLoader\n",
    "from torchvision.datasets import ImageFolder\n",
    "from torchvision.utils import make_grid, save_image\n",
    "from pathlib import Path\n",
    "from dalle_pytorch import OpenAIDiscreteVAE, DiscreteVAE, DALLE, VQGanVAE\n",
    "ImageFile.LOAD_TRUNCATED_IMAGES = True\n",
    "from tqdm.notebook import tqdm"
   ]
  },
  {
   "cell_type": "code",
   "execution_count": null,
   "metadata": {
    "execution": {
     "iopub.execute_input": "2023-06-11T13:57:09.925762Z",
     "iopub.status.busy": "2023-06-11T13:57:09.925247Z",
     "iopub.status.idle": "2023-06-11T13:57:10.480676Z",
     "shell.execute_reply": "2023-06-11T13:57:10.479666Z",
     "shell.execute_reply.started": "2023-06-11T13:57:09.925734Z"
    },
    "id": "d8SZujbTvF-c"
   },
   "outputs": [],
   "source": [
    "train_dataset = h5py.File('/kaggle/input/443-datasets/eee443_project_dataset_train.h5','r')\n",
    "\n",
    "train_cap = train_dataset[\"train_cap\"][()]\n",
    "train_imid = train_dataset[\"train_imid\"][()]\n",
    "train_url = train_dataset[\"train_url\"][()]\n",
    "word_code = train_dataset[\"word_code\"][()]\n",
    "\n",
    "\n",
    "test_dataset = h5py.File('/kaggle/input/443-datasets/eee443_project_dataset_test.h5','r')\n",
    "test_cap = test_dataset[\"test_caps\"][()]\n",
    "test_imid = test_dataset[\"test_imid\"][()]\n",
    "test_url=test_dataset[\"test_url\"][()]"
   ]
  },
  {
   "cell_type": "code",
   "execution_count": null,
   "metadata": {
    "execution": {
     "iopub.execute_input": "2023-06-11T13:57:10.910258Z",
     "iopub.status.busy": "2023-06-11T13:57:10.909521Z",
     "iopub.status.idle": "2023-06-11T13:57:10.915280Z",
     "shell.execute_reply": "2023-06-11T13:57:10.913944Z",
     "shell.execute_reply.started": "2023-06-11T13:57:10.910222Z"
    },
    "id": "EBDJc0CevwTc"
   },
   "outputs": [],
   "source": [
    "train_img_dir=\"/kaggle/input/443-train-images/443images\"\n",
    "test_img_dir=\"/kaggle/input/443-test-images/443test_images\""
   ]
  },
  {
   "cell_type": "code",
   "execution_count": null,
   "metadata": {
    "execution": {
     "iopub.execute_input": "2023-06-11T13:57:11.388934Z",
     "iopub.status.busy": "2023-06-11T13:57:11.387944Z",
     "iopub.status.idle": "2023-06-11T13:57:11.646537Z",
     "shell.execute_reply": "2023-06-11T13:57:11.645557Z",
     "shell.execute_reply.started": "2023-06-11T13:57:11.388888Z"
    },
    "id": "oZ_NzKZnzTfu"
   },
   "outputs": [],
   "source": [
    "train_imid2=np.load(\"/kaggle/input/cleaned-data/trainimid.npy\") \n",
    "train_cap2=np.load(\"/kaggle/input/cleaned-data/traicap.npy\")\n",
    "test_imid2=np.load(\"/kaggle/input/cleaned-data/testimid.npy\")\n",
    "test_cap2=np.load(\"/kaggle/input/cleaned-data/testcap.npy\")"
   ]
  },
  {
   "cell_type": "code",
   "execution_count": null,
   "metadata": {
    "execution": {
     "iopub.execute_input": "2023-06-11T13:57:37.661454Z",
     "iopub.status.busy": "2023-06-11T13:57:37.661093Z",
     "iopub.status.idle": "2023-06-11T13:57:37.672947Z",
     "shell.execute_reply": "2023-06-11T13:57:37.672063Z",
     "shell.execute_reply.started": "2023-06-11T13:57:37.661423Z"
    },
    "id": "LBgDVMBHwoE3"
   },
   "outputs": [],
   "source": [
    "\n",
    "class Create_Dataset(Dataset):\n",
    "\n",
    "  def __init__(self, imid, cap, dir_path, **kwargs):\n",
    "\n",
    "   self.dir_path = dir_path\n",
    "   self.sample_n = len(imid)\n",
    "\n",
    "   self.imid = imid\n",
    "   self.cap = cap\n",
    "\n",
    "  def __len__(self):\n",
    "\n",
    "    return self.sample_n\n",
    "\n",
    "  def __getitem__(self, ind):\n",
    "\n",
    "     imgpath = self.dir_path + \"/\" + str(self.imid[ind]) + \".png\"\n",
    "     self.image = Image.open(imgpath).convert(\"RGB\")\n",
    "\n",
    "     data_tensor = self.ImageToTensor(self.image)\n",
    "\n",
    "     return (data_tensor, self.cap[ind])\n",
    "\n",
    "  def ImageToTensor(self, img):\n",
    "\n",
    "    transform_with_resize = transforms.Compose([\n",
    "         transforms.Resize((256, 256)),\n",
    "         transforms.ToTensor(),\n",
    "         transforms.Normalize((0.485,0.456,0.406), (0.229,0.224,0.225))\n",
    "    ])\n",
    "    get_image = transforms.Compose([transforms.ToPILImage()])\n",
    "    img_rsz = transform_with_resize(img)\n",
    "    tns_to_img = get_image(img_rsz)\n",
    "\n",
    "    if img_rsz.shape[0]>3:\n",
    "     img_rsz = img_rsz[:3]\n",
    "    return img_rsz\n",
    "\n",
    "  def get_splits(self):\n",
    "\n",
    "   n_tra = int(0.85 * self.sample_n)\n",
    "   n_val = self.sample_n-n_tra\n",
    "    \n",
    "   self.get_train, self.get_val = torch.utils.data.random_split(self, [n_tra, n_val])\n"
   ]
  },
  {
   "cell_type": "code",
   "execution_count": null,
   "metadata": {
    "execution": {
     "iopub.execute_input": "2023-06-11T13:57:39.205294Z",
     "iopub.status.busy": "2023-06-11T13:57:39.204926Z",
     "iopub.status.idle": "2023-06-11T13:57:39.209657Z",
     "shell.execute_reply": "2023-06-11T13:57:39.208609Z",
     "shell.execute_reply.started": "2023-06-11T13:57:39.205262Z"
    },
    "id": "6O-ECrrbw11X"
   },
   "outputs": [],
   "source": [
    "train_set = Create_Dataset(train_imid2, train_cap2, train_img_dir)\n",
    "test_set = Create_Dataset(test_imid2, test_cap2, test_img_dir)\n",
    "torch.cuda.empty_cache()"
   ]
  },
  {
   "cell_type": "code",
   "execution_count": null,
   "metadata": {
    "execution": {
     "iopub.execute_input": "2023-06-11T13:57:48.855114Z",
     "iopub.status.busy": "2023-06-11T13:57:48.854706Z",
     "iopub.status.idle": "2023-06-11T13:57:48.915680Z",
     "shell.execute_reply": "2023-06-11T13:57:48.914605Z",
     "shell.execute_reply.started": "2023-06-11T13:57:48.855082Z"
    },
    "id": "SUFSmisL7oLq"
   },
   "outputs": [],
   "source": [
    "train_set.get_splits()\n",
    "validation_data = train_set.get_val\n",
    "train_data = train_set.get_train"
   ]
  },
  {
   "cell_type": "code",
   "execution_count": null,
   "metadata": {
    "colab": {
     "base_uri": "https://localhost:8080/"
    },
    "execution": {
     "iopub.execute_input": "2023-06-11T13:57:50.085784Z",
     "iopub.status.busy": "2023-06-11T13:57:50.084938Z",
     "iopub.status.idle": "2023-06-11T13:57:50.091457Z",
     "shell.execute_reply": "2023-06-11T13:57:50.090409Z",
     "shell.execute_reply.started": "2023-06-11T13:57:50.085751Z"
    },
    "id": "2Oa4f5H572Kl",
    "outputId": "f13ca3b9-1441-40c6-e82f-f398b7cd427f"
   },
   "outputs": [],
   "source": [
    "print(len(train_data))\n",
    "print(len(validation_data))"
   ]
  },
  {
   "cell_type": "code",
   "execution_count": null,
   "metadata": {
    "execution": {
     "iopub.execute_input": "2023-06-11T13:58:53.078150Z",
     "iopub.status.busy": "2023-06-11T13:58:53.077508Z",
     "iopub.status.idle": "2023-06-11T13:58:53.083652Z",
     "shell.execute_reply": "2023-06-11T13:58:53.082687Z",
     "shell.execute_reply.started": "2023-06-11T13:58:53.078108Z"
    }
   },
   "outputs": [],
   "source": [
    "parameters=dict(\n",
    "    dim = 256,  \n",
    "    num_text_tokens = 1004, \n",
    "    text_seq_len = 17,     \n",
    "    depth = 2,    \n",
    "    heads = 8,     \n",
    "    dim_head = 64,    \n",
    "    attn_dropout = 0.05,  \n",
    "    ff_dropout = 0.05,\n",
    "    reversible= False,\n",
    "    stable= False,\n",
    "    shift_tokens= False,\n",
    "    rotary_emb= False,\n",
    "    share_input_output_emb= False)       "
   ]
  },
  {
   "cell_type": "code",
   "execution_count": null,
   "metadata": {
    "execution": {
     "iopub.execute_input": "2023-06-11T13:58:53.085558Z",
     "iopub.status.busy": "2023-06-11T13:58:53.084858Z",
     "iopub.status.idle": "2023-06-11T13:58:53.097219Z",
     "shell.execute_reply": "2023-06-11T13:58:53.096282Z",
     "shell.execute_reply.started": "2023-06-11T13:58:53.085526Z"
    }
   },
   "outputs": [],
   "source": [
    "\n",
    "def model_save(path, opt,hparams, epoch=0):\n",
    " \n",
    "    save_obj = {\n",
    "\n",
    "              'hparams': hparams,\n",
    "\n",
    "              'epoch': epoch,\n",
    "\n",
    "              'version': __version__,\n",
    "\n",
    "              'vae_class_name': \"VQGanVAE\",\n",
    "\n",
    "              'weights': dall_e.state_dict(),\n",
    "\n",
    "              'pt_opt': opt.state_dict(),\n",
    "\n",
    "              'pt_sch': sch.state_dict() }\n",
    "    \n",
    "    torch.save(save_obj, path)"
   ]
  },
  {
   "cell_type": "code",
   "execution_count": null,
   "metadata": {
    "execution": {
     "iopub.execute_input": "2023-06-11T13:59:13.416167Z",
     "iopub.status.busy": "2023-06-11T13:59:13.415714Z",
     "iopub.status.idle": "2023-06-11T14:01:05.569124Z",
     "shell.execute_reply": "2023-06-11T14:01:05.568174Z",
     "shell.execute_reply.started": "2023-06-11T13:59:13.416130Z"
    }
   },
   "outputs": [],
   "source": [
    "#dall_e = DALLE(**parameters,vae = VQGanVAE()).to(device) ## use it only for first epoch \n",
    "\n",
    "pathpt=\"/kaggle/input/newwpoch3/dalle_ep3.pt\"   ##### dont use for first epoch \n",
    "\n",
    "ptload=torch.load(pathpt)                              ####  dont use for first epoch \n",
    "\n",
    "pt_params=ptload[\"hparams\"]                              ####  dont use for first epoch \n",
    "pt_weights=ptload[\"weights\"]                              ####  dont use for first epoch \n",
    "pt_opt=ptload.get(\"pt_opt\")                               ####  dont use for first epoch \n",
    "pt_sch=ptload.get(\"pt_sch\")                               ####  dont use for first epoch \n",
    "\n",
    "dall_e=DALLE(**pt_params,vae = VQGanVAE()).to(device)  #### dont use for first epoch \n",
    "dall_e.load_state_dict(pt_weights)                    #### dont use for first epoch \n",
    "\n",
    "opt = torch.optim.Adam(dall_e.parameters(), lr=0.001)\n",
    "opt.load_state_dict(pt_opt)                              ####  dont use for first epoch \n",
    "\n",
    "\n",
    "sch = torch.optim.lr_scheduler.ExponentialLR(opt, 0.98)\n",
    "sch.load_state_dict(pt_sch)                              ####  dont use for first epoch \n"
   ]
  },
  {
   "cell_type": "code",
   "execution_count": null,
   "metadata": {
    "execution": {
     "iopub.execute_input": "2023-06-11T14:01:05.571662Z",
     "iopub.status.busy": "2023-06-11T14:01:05.571198Z",
     "iopub.status.idle": "2023-06-11T14:01:05.577894Z",
     "shell.execute_reply": "2023-06-11T14:01:05.576911Z",
     "shell.execute_reply.started": "2023-06-11T14:01:05.571628Z"
    }
   },
   "outputs": [],
   "source": [
    "train_dataloader = torch.utils.data.DataLoader(\n",
    "     dataset=train_data,\n",
    "     batch_size=32,\n",
    "     shuffle=True,\n",
    "     num_workers=2\n",
    ")"
   ]
  },
  {
   "cell_type": "code",
   "execution_count": null,
   "metadata": {
    "execution": {
     "iopub.execute_input": "2023-06-11T14:01:05.580279Z",
     "iopub.status.busy": "2023-06-11T14:01:05.579369Z",
     "iopub.status.idle": "2023-06-11T15:20:30.627448Z",
     "shell.execute_reply": "2023-06-11T15:20:30.626306Z",
     "shell.execute_reply.started": "2023-06-11T14:01:05.580246Z"
    },
    "scrolled": true
   },
   "outputs": [],
   "source": [
    "dall_e.train()\n",
    "resume=8\n",
    "num_epoch=1\n",
    "for ep in range(num_epoch):\n",
    "    print(\"Epoch:\",ep)\n",
    "    temp_losses=[]\n",
    "    for x, y in tqdm(train_dataloader):\n",
    "        print()\n",
    "        opt.zero_grad()\n",
    "        loss = dall_e(y.to(device), x.to(device), return_loss = True)\n",
    "        loss.backward()\n",
    "        opt.step()\n",
    "        \n",
    "        temp_losses.append(loss.item())\n",
    "        \n",
    "        print(\"Batch Loss: \" + str(loss.item()))\n",
    "    sch.step()\n",
    "    "
   ]
  },
  {
   "cell_type": "code",
   "execution_count": null,
   "metadata": {
    "execution": {
     "iopub.execute_input": "2023-06-11T15:20:30.631003Z",
     "iopub.status.busy": "2023-06-11T15:20:30.630662Z",
     "iopub.status.idle": "2023-06-11T15:20:30.636325Z",
     "shell.execute_reply": "2023-06-11T15:20:30.635411Z",
     "shell.execute_reply.started": "2023-06-11T15:20:30.630970Z"
    }
   },
   "outputs": [],
   "source": [
    "import os\n",
    "import json\n",
    "from kaggle_secrets import UserSecretsClient"
   ]
  },
  {
   "cell_type": "code",
   "execution_count": null,
   "metadata": {
    "execution": {
     "iopub.execute_input": "2023-06-11T15:20:30.638664Z",
     "iopub.status.busy": "2023-06-11T15:20:30.637729Z",
     "iopub.status.idle": "2023-06-11T15:20:31.073562Z",
     "shell.execute_reply": "2023-06-11T15:20:31.072622Z",
     "shell.execute_reply.started": "2023-06-11T15:20:30.638628Z"
    }
   },
   "outputs": [],
   "source": [
    "secrets = UserSecretsClient()\n",
    "\n",
    "os.environ['KAGGLE_USERNAME'] = secrets.get_secret(\"KAGGLE_USERNAME\")\n",
    "os.environ['KAGGLE_KEY'] = secrets.get_secret(\"KAGGLE_KEY\")"
   ]
  },
  {
   "cell_type": "code",
   "execution_count": null,
   "metadata": {
    "execution": {
     "iopub.execute_input": "2023-06-11T15:23:58.195576Z",
     "iopub.status.busy": "2023-06-11T15:23:58.195134Z",
     "iopub.status.idle": "2023-06-11T15:23:58.203478Z",
     "shell.execute_reply": "2023-06-11T15:23:58.202581Z",
     "shell.execute_reply.started": "2023-06-11T15:23:58.195538Z"
    }
   },
   "outputs": [],
   "source": [
    "os.makedirs('/kaggle/dataset/', exist_ok=True)\n",
    "meta = dict(\n",
    "    id=\"ouzcanduran/my-dataset9\",\n",
    "    title=\"Dalle_ep10\",\n",
    "    isPrivate=True,\n",
    "    licenses=[dict(name=\"other\")]\n",
    ")\n",
    "with open('/kaggle/dataset/dataset-metadata.json', 'w') as f:\n",
    "    json.dump(meta, f)"
   ]
  },
  {
   "cell_type": "code",
   "execution_count": null,
   "metadata": {
    "execution": {
     "iopub.execute_input": "2023-06-11T15:23:59.214168Z",
     "iopub.status.busy": "2023-06-11T15:23:59.213784Z",
     "iopub.status.idle": "2023-06-11T15:24:00.430578Z",
     "shell.execute_reply": "2023-06-11T15:24:00.429556Z",
     "shell.execute_reply.started": "2023-06-11T15:23:59.214138Z"
    }
   },
   "outputs": [],
   "source": [
    "os.makedirs('/kaggle/dataset/my-directory', exist_ok=True)\n",
    "model_save('/kaggle/dataset/my-directory/dalle_ep{}.pt'.format(resume+1), opt,parameters, epoch=resume+1) \n",
    "np.save(\"/kaggle/dataset/my-directory/losses_9ep.npy\",np.array(temp_losses))"
   ]
  },
  {
   "cell_type": "code",
   "execution_count": null,
   "metadata": {
    "execution": {
     "iopub.execute_input": "2023-06-11T15:24:05.037819Z",
     "iopub.status.busy": "2023-06-11T15:24:05.034739Z",
     "iopub.status.idle": "2023-06-11T15:24:42.667226Z",
     "shell.execute_reply": "2023-06-11T15:24:42.666017Z",
     "shell.execute_reply.started": "2023-06-11T15:24:05.037768Z"
    }
   },
   "outputs": [],
   "source": [
    "!kaggle datasets create -p \"/kaggle/dataset\" --dir-mode zip"
   ]
  }
 ],
 "metadata": {
  "accelerator": "GPU",
  "colab": {
   "gpuType": "T4",
   "provenance": []
  },
  "kernelspec": {
   "display_name": "Python 3",
   "language": "python",
   "name": "python3"
  },
  "language_info": {
   "codemirror_mode": {
    "name": "ipython",
    "version": 3
   },
   "file_extension": ".py",
   "mimetype": "text/x-python",
   "name": "python",
   "nbconvert_exporter": "python",
   "pygments_lexer": "ipython3",
   "version": "3.8.8"
  },
  "widgets": {
   "application/vnd.jupyter.widget-state+json": {
    "25fdd53d4f724af2b4082468b13012a0": {
     "model_module": "@jupyter-widgets/controls",
     "model_module_version": "1.5.0",
     "model_name": "HBoxModel",
     "state": {
      "_dom_classes": [],
      "_model_module": "@jupyter-widgets/controls",
      "_model_module_version": "1.5.0",
      "_model_name": "HBoxModel",
      "_view_count": null,
      "_view_module": "@jupyter-widgets/controls",
      "_view_module_version": "1.5.0",
      "_view_name": "HBoxView",
      "box_style": "",
      "children": [
       "IPY_MODEL_fe18abae42dc41dc9f8605e5671d7a7a",
       "IPY_MODEL_b40f264fe75c4cdb877d22858e0cbf75",
       "IPY_MODEL_938f08577bf440f7b5652c668932db10"
      ],
      "layout": "IPY_MODEL_a4b784549c2f4e0d8c9172a549545a58"
     }
    },
    "79bd76246b764afabad409b608a7ac9f": {
     "model_module": "@jupyter-widgets/controls",
     "model_module_version": "1.5.0",
     "model_name": "DescriptionStyleModel",
     "state": {
      "_model_module": "@jupyter-widgets/controls",
      "_model_module_version": "1.5.0",
      "_model_name": "DescriptionStyleModel",
      "_view_count": null,
      "_view_module": "@jupyter-widgets/base",
      "_view_module_version": "1.2.0",
      "_view_name": "StyleView",
      "description_width": ""
     }
    },
    "938f08577bf440f7b5652c668932db10": {
     "model_module": "@jupyter-widgets/controls",
     "model_module_version": "1.5.0",
     "model_name": "HTMLModel",
     "state": {
      "_dom_classes": [],
      "_model_module": "@jupyter-widgets/controls",
      "_model_module_version": "1.5.0",
      "_model_name": "HTMLModel",
      "_view_count": null,
      "_view_module": "@jupyter-widgets/controls",
      "_view_module_version": "1.5.0",
      "_view_name": "HTMLView",
      "description": "",
      "description_tooltip": null,
      "layout": "IPY_MODEL_a4af1a1c9b1e439d899c19bd757c0eb0",
      "placeholder": "​",
      "style": "IPY_MODEL_79bd76246b764afabad409b608a7ac9f",
      "value": " 246/9030 [06:12&lt;3:39:00,  1.50s/it]"
     }
    },
    "994b5c5f89e14cd08032d2bd8851f884": {
     "model_module": "@jupyter-widgets/base",
     "model_module_version": "1.2.0",
     "model_name": "LayoutModel",
     "state": {
      "_model_module": "@jupyter-widgets/base",
      "_model_module_version": "1.2.0",
      "_model_name": "LayoutModel",
      "_view_count": null,
      "_view_module": "@jupyter-widgets/base",
      "_view_module_version": "1.2.0",
      "_view_name": "LayoutView",
      "align_content": null,
      "align_items": null,
      "align_self": null,
      "border": null,
      "bottom": null,
      "display": null,
      "flex": null,
      "flex_flow": null,
      "grid_area": null,
      "grid_auto_columns": null,
      "grid_auto_flow": null,
      "grid_auto_rows": null,
      "grid_column": null,
      "grid_gap": null,
      "grid_row": null,
      "grid_template_areas": null,
      "grid_template_columns": null,
      "grid_template_rows": null,
      "height": null,
      "justify_content": null,
      "justify_items": null,
      "left": null,
      "margin": null,
      "max_height": null,
      "max_width": null,
      "min_height": null,
      "min_width": null,
      "object_fit": null,
      "object_position": null,
      "order": null,
      "overflow": null,
      "overflow_x": null,
      "overflow_y": null,
      "padding": null,
      "right": null,
      "top": null,
      "visibility": null,
      "width": null
     }
    },
    "a4af1a1c9b1e439d899c19bd757c0eb0": {
     "model_module": "@jupyter-widgets/base",
     "model_module_version": "1.2.0",
     "model_name": "LayoutModel",
     "state": {
      "_model_module": "@jupyter-widgets/base",
      "_model_module_version": "1.2.0",
      "_model_name": "LayoutModel",
      "_view_count": null,
      "_view_module": "@jupyter-widgets/base",
      "_view_module_version": "1.2.0",
      "_view_name": "LayoutView",
      "align_content": null,
      "align_items": null,
      "align_self": null,
      "border": null,
      "bottom": null,
      "display": null,
      "flex": null,
      "flex_flow": null,
      "grid_area": null,
      "grid_auto_columns": null,
      "grid_auto_flow": null,
      "grid_auto_rows": null,
      "grid_column": null,
      "grid_gap": null,
      "grid_row": null,
      "grid_template_areas": null,
      "grid_template_columns": null,
      "grid_template_rows": null,
      "height": null,
      "justify_content": null,
      "justify_items": null,
      "left": null,
      "margin": null,
      "max_height": null,
      "max_width": null,
      "min_height": null,
      "min_width": null,
      "object_fit": null,
      "object_position": null,
      "order": null,
      "overflow": null,
      "overflow_x": null,
      "overflow_y": null,
      "padding": null,
      "right": null,
      "top": null,
      "visibility": null,
      "width": null
     }
    },
    "a4b784549c2f4e0d8c9172a549545a58": {
     "model_module": "@jupyter-widgets/base",
     "model_module_version": "1.2.0",
     "model_name": "LayoutModel",
     "state": {
      "_model_module": "@jupyter-widgets/base",
      "_model_module_version": "1.2.0",
      "_model_name": "LayoutModel",
      "_view_count": null,
      "_view_module": "@jupyter-widgets/base",
      "_view_module_version": "1.2.0",
      "_view_name": "LayoutView",
      "align_content": null,
      "align_items": null,
      "align_self": null,
      "border": null,
      "bottom": null,
      "display": null,
      "flex": null,
      "flex_flow": null,
      "grid_area": null,
      "grid_auto_columns": null,
      "grid_auto_flow": null,
      "grid_auto_rows": null,
      "grid_column": null,
      "grid_gap": null,
      "grid_row": null,
      "grid_template_areas": null,
      "grid_template_columns": null,
      "grid_template_rows": null,
      "height": null,
      "justify_content": null,
      "justify_items": null,
      "left": null,
      "margin": null,
      "max_height": null,
      "max_width": null,
      "min_height": null,
      "min_width": null,
      "object_fit": null,
      "object_position": null,
      "order": null,
      "overflow": null,
      "overflow_x": null,
      "overflow_y": null,
      "padding": null,
      "right": null,
      "top": null,
      "visibility": null,
      "width": null
     }
    },
    "b40f264fe75c4cdb877d22858e0cbf75": {
     "model_module": "@jupyter-widgets/controls",
     "model_module_version": "1.5.0",
     "model_name": "FloatProgressModel",
     "state": {
      "_dom_classes": [],
      "_model_module": "@jupyter-widgets/controls",
      "_model_module_version": "1.5.0",
      "_model_name": "FloatProgressModel",
      "_view_count": null,
      "_view_module": "@jupyter-widgets/controls",
      "_view_module_version": "1.5.0",
      "_view_name": "ProgressView",
      "bar_style": "",
      "description": "",
      "description_tooltip": null,
      "layout": "IPY_MODEL_994b5c5f89e14cd08032d2bd8851f884",
      "max": 9030,
      "min": 0,
      "orientation": "horizontal",
      "style": "IPY_MODEL_d1a0b1e2b69a4cfe869db64c9d501a3a",
      "value": 246
     }
    },
    "d1a0b1e2b69a4cfe869db64c9d501a3a": {
     "model_module": "@jupyter-widgets/controls",
     "model_module_version": "1.5.0",
     "model_name": "ProgressStyleModel",
     "state": {
      "_model_module": "@jupyter-widgets/controls",
      "_model_module_version": "1.5.0",
      "_model_name": "ProgressStyleModel",
      "_view_count": null,
      "_view_module": "@jupyter-widgets/base",
      "_view_module_version": "1.2.0",
      "_view_name": "StyleView",
      "bar_color": null,
      "description_width": ""
     }
    },
    "de4dc796265f46e1b553cd056a2c06b2": {
     "model_module": "@jupyter-widgets/base",
     "model_module_version": "1.2.0",
     "model_name": "LayoutModel",
     "state": {
      "_model_module": "@jupyter-widgets/base",
      "_model_module_version": "1.2.0",
      "_model_name": "LayoutModel",
      "_view_count": null,
      "_view_module": "@jupyter-widgets/base",
      "_view_module_version": "1.2.0",
      "_view_name": "LayoutView",
      "align_content": null,
      "align_items": null,
      "align_self": null,
      "border": null,
      "bottom": null,
      "display": null,
      "flex": null,
      "flex_flow": null,
      "grid_area": null,
      "grid_auto_columns": null,
      "grid_auto_flow": null,
      "grid_auto_rows": null,
      "grid_column": null,
      "grid_gap": null,
      "grid_row": null,
      "grid_template_areas": null,
      "grid_template_columns": null,
      "grid_template_rows": null,
      "height": null,
      "justify_content": null,
      "justify_items": null,
      "left": null,
      "margin": null,
      "max_height": null,
      "max_width": null,
      "min_height": null,
      "min_width": null,
      "object_fit": null,
      "object_position": null,
      "order": null,
      "overflow": null,
      "overflow_x": null,
      "overflow_y": null,
      "padding": null,
      "right": null,
      "top": null,
      "visibility": null,
      "width": null
     }
    },
    "e0ce992bb4714c51a1000492b28af9ac": {
     "model_module": "@jupyter-widgets/controls",
     "model_module_version": "1.5.0",
     "model_name": "DescriptionStyleModel",
     "state": {
      "_model_module": "@jupyter-widgets/controls",
      "_model_module_version": "1.5.0",
      "_model_name": "DescriptionStyleModel",
      "_view_count": null,
      "_view_module": "@jupyter-widgets/base",
      "_view_module_version": "1.2.0",
      "_view_name": "StyleView",
      "description_width": ""
     }
    },
    "fe18abae42dc41dc9f8605e5671d7a7a": {
     "model_module": "@jupyter-widgets/controls",
     "model_module_version": "1.5.0",
     "model_name": "HTMLModel",
     "state": {
      "_dom_classes": [],
      "_model_module": "@jupyter-widgets/controls",
      "_model_module_version": "1.5.0",
      "_model_name": "HTMLModel",
      "_view_count": null,
      "_view_module": "@jupyter-widgets/controls",
      "_view_module_version": "1.5.0",
      "_view_name": "HTMLView",
      "description": "",
      "description_tooltip": null,
      "layout": "IPY_MODEL_de4dc796265f46e1b553cd056a2c06b2",
      "placeholder": "​",
      "style": "IPY_MODEL_e0ce992bb4714c51a1000492b28af9ac",
      "value": "  3%"
     }
    }
   }
  }
 },
 "nbformat": 4,
 "nbformat_minor": 4
}
